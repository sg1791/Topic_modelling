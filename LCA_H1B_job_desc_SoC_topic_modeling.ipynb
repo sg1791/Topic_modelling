{
  "cells": [
    {
      "metadata": {
        "_cell_guid": "cc11fc8c-2200-4ce4-95ca-960df66c75aa",
        "_uuid": "5754e23c2f49ab35554434c35c9776fda20c3080",
        "trusted": true
      },
      "cell_type": "code",
      "source": "# This Python 3 environment comes with many helpful analytics libraries installed\n# It is defined by the kaggle/python docker image: https://github.com/kaggle/docker-python\n# For example, here's several helpful packages to load in \n\nimport numpy as np # linear algebra\nimport pandas as pd # data processing, CSV file I/O (e.g. pd.read_csv)\n\n# Input data files are available in the \"../input/\" directory.\n# For example, running this (by clicking run or pressing Shift+Enter) will list the files in the input directory\n\nfrom subprocess import check_output\nprint(check_output([\"ls\", \"../input\"]).decode(\"utf8\"))\n\n# Any results you write to the current directory are saved as output.",
      "execution_count": 2,
      "outputs": [
        {
          "output_type": "stream",
          "text": "h1b_TRAIN_tableau.csv\n\n",
          "name": "stdout"
        }
      ]
    },
    {
      "metadata": {
        "collapsed": true,
        "_cell_guid": "3ff061db-7d26-4b69-92c4-5fef3dee72f1",
        "_uuid": "e6a7c7523c14ccabdd7911c294afd4004ad74437"
      },
      "cell_type": "markdown",
      "source": "# Data import"
    },
    {
      "metadata": {
        "_cell_guid": "3d61b3ba-ea4f-45ed-a15d-ed9e972ffa39",
        "_uuid": "dd25d99b7bb63a1ae9171cafdc34a29f05bc3d11",
        "trusted": true
      },
      "cell_type": "code",
      "source": "import pandas as pd\nimport numpy as np\nimport matplotlib.pyplot as plt\nfrom time import time, sleep\nfrom tqdm import tqdm, trange\nfrom tqdm import tqdm_notebook as tn\ntqdm.pandas(desc='progress bar')\nfrom collections import Counter\nimport operator\nimport pickle\nimport re\nimport math\nimport os\nget_ipython().magic('matplotlib inline')\n\n\n\nfrom sklearn.feature_extraction.text import HashingVectorizer\nfrom sklearn.feature_extraction.text import CountVectorizer\nfrom sklearn.naive_bayes import MultinomialNB\nfrom sklearn.linear_model import PassiveAggressiveClassifier\nfrom sklearn.linear_model import LogisticRegressionCV\nfrom sklearn import metrics\nfrom sklearn.metrics import classification_report\nfrom sklearn.cross_validation import train_test_split\n\nfrom sklearn.preprocessing import StandardScaler\nfrom sklearn.datasets import make_moons, make_circles, make_classification\nfrom sklearn.neural_network import MLPClassifier\nfrom sklearn.neighbors import KNeighborsClassifier\nfrom sklearn.svm import SVC\nfrom sklearn.gaussian_process import GaussianProcessClassifier\nfrom sklearn.gaussian_process.kernels import RBF\nfrom sklearn.tree import DecisionTreeClassifier\nfrom sklearn.ensemble import RandomForestClassifier, AdaBoostClassifier\nfrom sklearn.naive_bayes import GaussianNB\nfrom sklearn.discriminant_analysis import QuadraticDiscriminantAnalysis",
      "execution_count": 3,
      "outputs": [
        {
          "output_type": "stream",
          "text": "/opt/conda/lib/python3.6/site-packages/sklearn/cross_validation.py:41: DeprecationWarning: This module was deprecated in version 0.18 in favor of the model_selection module into which all the refactored classes and functions are moved. Also note that the interface of the new CV iterators are different from that of this module. This module will be removed in 0.20.\n  \"This module will be removed in 0.20.\", DeprecationWarning)\n",
          "name": "stderr"
        }
      ]
    },
    {
      "metadata": {
        "collapsed": true,
        "_cell_guid": "2203f4e7-9912-41d1-af17-1fc69d40c5e9",
        "_uuid": "f6bdc08d89da7ea39cf1daef145ea65fb702bd9b",
        "trusted": true
      },
      "cell_type": "code",
      "source": "df = pd.read_csv('../input/h1b_TRAIN_tableau.csv', sep=',')",
      "execution_count": 4,
      "outputs": []
    },
    {
      "metadata": {
        "_cell_guid": "02bd57fd-bd13-477c-acef-a58808442ab7",
        "_uuid": "ecfd662ef2ca4290a6b751aad7ea1b8cbaa5311d",
        "trusted": true
      },
      "cell_type": "code",
      "source": "df.describe()",
      "execution_count": 5,
      "outputs": [
        {
          "output_type": "execute_result",
          "execution_count": 5,
          "data": {
            "text/plain": "            Case Id  JT_EXECUTIVE_FLAG  Prevailing Wage filter     Longitude  \\\ncount  2.251844e+06       2.251844e+06            2.251844e+06  2.171398e+06   \nmean   1.501788e+06       2.492624e-03            9.964092e-01  9.213684e+01   \nstd    8.666892e+05       4.986393e-02            5.981590e-02  1.963492e+01   \nmin    1.000000e+00       0.000000e+00            0.000000e+00 -1.457298e+02   \n25%    7.512768e+05       0.000000e+00            1.000000e+00  7.551381e+01   \n50%    1.502439e+06       0.000000e+00            1.000000e+00  8.623793e+01   \n75%    2.252488e+06       0.000000e+00            1.000000e+00  1.119261e+02   \nmax    3.002457e+06       1.000000e+00            1.000000e+00  1.578583e+02   \n\n           Latitude  SoC_COMPUTER_FLAG  SoC_UPPERCASE_FLAG  JT_PROFESSOR_FLAG  \\\ncount  2.171398e+06       2.251844e+06        2.251844e+06       2.251844e+06   \nmean   3.815967e+01       6.126370e-01        4.274483e-01       6.115210e-02   \nstd    4.671896e+00       4.871478e-01        4.947084e-01       2.396092e-01   \nmin    1.343719e+01       0.000000e+00        0.000000e+00       0.000000e+00   \n25%    3.416536e+01       0.000000e+00        0.000000e+00       0.000000e+00   \n50%    3.910312e+01       1.000000e+00        0.000000e+00       0.000000e+00   \n75%    4.088399e+01       1.000000e+00        1.000000e+00       0.000000e+00   \nmax    6.483778e+01       1.000000e+00        1.000000e+00       1.000000e+00   \n\n       Number of Records  Prevailing Wage  JT_SENIOR_FLAG  \\\ncount          2251844.0     2.251779e+06    2.251844e+06   \nmean                 1.0     1.498183e+05    9.246999e-02   \nstd                  0.0     5.808395e+06    2.896883e-01   \nmin                  1.0     0.000000e+00    0.000000e+00   \n25%                  1.0     5.439200e+04    0.000000e+00   \n50%                  1.0     6.502100e+04    0.000000e+00   \n75%                  1.0     8.143200e+04    0.000000e+00   \nmax                  1.0     6.997607e+09    1.000000e+00   \n\n       JT_DATASCIENCE_FLAG  Emp_UNIVERSITY_FLAG          Year  \ncount         2.251844e+06         2.251844e+06  2.251836e+06  \nmean          4.810280e-03         5.575031e-02  2.013854e+03  \nstd           6.918918e-02         2.294390e-01  1.680675e+00  \nmin           0.000000e+00         0.000000e+00  2.011000e+03  \n25%           0.000000e+00         0.000000e+00  2.012000e+03  \n50%           0.000000e+00         0.000000e+00  2.014000e+03  \n75%           0.000000e+00         0.000000e+00  2.015000e+03  \nmax           1.000000e+00         1.000000e+00  2.016000e+03  ",
            "text/html": "<div>\n<style>\n    .dataframe thead tr:only-child th {\n        text-align: right;\n    }\n\n    .dataframe thead th {\n        text-align: left;\n    }\n\n    .dataframe tbody tr th {\n        vertical-align: top;\n    }\n</style>\n<table border=\"1\" class=\"dataframe\">\n  <thead>\n    <tr style=\"text-align: right;\">\n      <th></th>\n      <th>Case Id</th>\n      <th>JT_EXECUTIVE_FLAG</th>\n      <th>Prevailing Wage filter</th>\n      <th>Longitude</th>\n      <th>Latitude</th>\n      <th>SoC_COMPUTER_FLAG</th>\n      <th>SoC_UPPERCASE_FLAG</th>\n      <th>JT_PROFESSOR_FLAG</th>\n      <th>Number of Records</th>\n      <th>Prevailing Wage</th>\n      <th>JT_SENIOR_FLAG</th>\n      <th>JT_DATASCIENCE_FLAG</th>\n      <th>Emp_UNIVERSITY_FLAG</th>\n      <th>Year</th>\n    </tr>\n  </thead>\n  <tbody>\n    <tr>\n      <th>count</th>\n      <td>2.251844e+06</td>\n      <td>2.251844e+06</td>\n      <td>2.251844e+06</td>\n      <td>2.171398e+06</td>\n      <td>2.171398e+06</td>\n      <td>2.251844e+06</td>\n      <td>2.251844e+06</td>\n      <td>2.251844e+06</td>\n      <td>2251844.0</td>\n      <td>2.251779e+06</td>\n      <td>2.251844e+06</td>\n      <td>2.251844e+06</td>\n      <td>2.251844e+06</td>\n      <td>2.251836e+06</td>\n    </tr>\n    <tr>\n      <th>mean</th>\n      <td>1.501788e+06</td>\n      <td>2.492624e-03</td>\n      <td>9.964092e-01</td>\n      <td>9.213684e+01</td>\n      <td>3.815967e+01</td>\n      <td>6.126370e-01</td>\n      <td>4.274483e-01</td>\n      <td>6.115210e-02</td>\n      <td>1.0</td>\n      <td>1.498183e+05</td>\n      <td>9.246999e-02</td>\n      <td>4.810280e-03</td>\n      <td>5.575031e-02</td>\n      <td>2.013854e+03</td>\n    </tr>\n    <tr>\n      <th>std</th>\n      <td>8.666892e+05</td>\n      <td>4.986393e-02</td>\n      <td>5.981590e-02</td>\n      <td>1.963492e+01</td>\n      <td>4.671896e+00</td>\n      <td>4.871478e-01</td>\n      <td>4.947084e-01</td>\n      <td>2.396092e-01</td>\n      <td>0.0</td>\n      <td>5.808395e+06</td>\n      <td>2.896883e-01</td>\n      <td>6.918918e-02</td>\n      <td>2.294390e-01</td>\n      <td>1.680675e+00</td>\n    </tr>\n    <tr>\n      <th>min</th>\n      <td>1.000000e+00</td>\n      <td>0.000000e+00</td>\n      <td>0.000000e+00</td>\n      <td>-1.457298e+02</td>\n      <td>1.343719e+01</td>\n      <td>0.000000e+00</td>\n      <td>0.000000e+00</td>\n      <td>0.000000e+00</td>\n      <td>1.0</td>\n      <td>0.000000e+00</td>\n      <td>0.000000e+00</td>\n      <td>0.000000e+00</td>\n      <td>0.000000e+00</td>\n      <td>2.011000e+03</td>\n    </tr>\n    <tr>\n      <th>25%</th>\n      <td>7.512768e+05</td>\n      <td>0.000000e+00</td>\n      <td>1.000000e+00</td>\n      <td>7.551381e+01</td>\n      <td>3.416536e+01</td>\n      <td>0.000000e+00</td>\n      <td>0.000000e+00</td>\n      <td>0.000000e+00</td>\n      <td>1.0</td>\n      <td>5.439200e+04</td>\n      <td>0.000000e+00</td>\n      <td>0.000000e+00</td>\n      <td>0.000000e+00</td>\n      <td>2.012000e+03</td>\n    </tr>\n    <tr>\n      <th>50%</th>\n      <td>1.502439e+06</td>\n      <td>0.000000e+00</td>\n      <td>1.000000e+00</td>\n      <td>8.623793e+01</td>\n      <td>3.910312e+01</td>\n      <td>1.000000e+00</td>\n      <td>0.000000e+00</td>\n      <td>0.000000e+00</td>\n      <td>1.0</td>\n      <td>6.502100e+04</td>\n      <td>0.000000e+00</td>\n      <td>0.000000e+00</td>\n      <td>0.000000e+00</td>\n      <td>2.014000e+03</td>\n    </tr>\n    <tr>\n      <th>75%</th>\n      <td>2.252488e+06</td>\n      <td>0.000000e+00</td>\n      <td>1.000000e+00</td>\n      <td>1.119261e+02</td>\n      <td>4.088399e+01</td>\n      <td>1.000000e+00</td>\n      <td>1.000000e+00</td>\n      <td>0.000000e+00</td>\n      <td>1.0</td>\n      <td>8.143200e+04</td>\n      <td>0.000000e+00</td>\n      <td>0.000000e+00</td>\n      <td>0.000000e+00</td>\n      <td>2.015000e+03</td>\n    </tr>\n    <tr>\n      <th>max</th>\n      <td>3.002457e+06</td>\n      <td>1.000000e+00</td>\n      <td>1.000000e+00</td>\n      <td>1.578583e+02</td>\n      <td>6.483778e+01</td>\n      <td>1.000000e+00</td>\n      <td>1.000000e+00</td>\n      <td>1.000000e+00</td>\n      <td>1.0</td>\n      <td>6.997607e+09</td>\n      <td>1.000000e+00</td>\n      <td>1.000000e+00</td>\n      <td>1.000000e+00</td>\n      <td>2.016000e+03</td>\n    </tr>\n  </tbody>\n</table>\n</div>"
          },
          "metadata": {}
        }
      ]
    },
    {
      "metadata": {
        "_cell_guid": "328e03fc-d368-4e26-92b1-187ca8ec50f6",
        "_uuid": "f0c389e968c233751c899af9ea0621f80bf3bc93",
        "trusted": true
      },
      "cell_type": "code",
      "source": "df.shape",
      "execution_count": 6,
      "outputs": [
        {
          "output_type": "execute_result",
          "execution_count": 6,
          "data": {
            "text/plain": "(2251844, 22)"
          },
          "metadata": {}
        }
      ]
    },
    {
      "metadata": {
        "_cell_guid": "776c3960-b34e-4409-95c3-e7ab26cbbcec",
        "_uuid": "d4b54ac156534bc046fc4c9f1dfbe66382f3a241",
        "trusted": true
      },
      "cell_type": "code",
      "source": "df.head(10)",
      "execution_count": 7,
      "outputs": [
        {
          "output_type": "execute_result",
          "execution_count": 7,
          "data": {
            "text/plain": "   Case Id Case Status  JT_EXECUTIVE_FLAG  Prevailing Wage filter   Longitude  \\\n0  2817253   CERTIFIED                  0                       1   74.222116   \n1  2854337   CERTIFIED                  0                       1   96.829169   \n2  2662898   CERTIFIED                  0                       1   77.046921   \n3  2827634   CERTIFIED                  0                       1  118.127015   \n4  2805991   CERTIFIED                  0                       1  118.127015   \n5  2885264   CERTIFIED                  0                       1   75.490183   \n6  2908732   CERTIFIED                  0                       1   93.631913   \n7  2692448   CERTIFIED                  0                       1  117.914504   \n8  2676280   CERTIFIED                  0                       1  117.914504   \n9  2903958   CERTIFIED                  0                       1  117.914504   \n\n    Latitude  SoC_COMPUTER_FLAG  \\\n0  40.417095                  0   \n1  32.961790                  0   \n2  38.804835                  0   \n3  34.095287                  0   \n4  34.095287                  0   \n5  40.608430                  0   \n6  42.030781                  0   \n7  33.835293                  0   \n8  33.835293                  0   \n9  33.835293                  0   \n\n                                      Employer Name  SoC_UPPERCASE_FLAG  \\\n0                                YANG'S SEAFOOD LLC                   0   \n1             CRYSTAL TECHNOLOGY & INDUSTRIES, INC.                   0   \n2                               FIRST PAINTING INC.                   0   \n3        YANG AND COMPANY CPA, A PROFESSIONAL CORP.                   0   \n4  YANG AND COMPANY CPA, A PROFESSIONAL CORPORATION                   0   \n5                             PANDYA CONSULTING LLC                   0   \n6   IOWA STATE UNIVERSITY OF SCIENCE AND TECHNOLOGY                   0   \n7                                     NIDI TEC INC.                   0   \n8                    ROBERT CHANG ACCOUNTANCY CORP.                   0   \n9                                    VINEERAAJ INC.                   0   \n\n   JT_PROFESSOR_FLAG   ...   Number of Records Prevailing Wage  \\\n0                  0   ...                   1         52852.8   \n1                  0   ...                   1         41600.0   \n2                  0   ...                   1         48963.2   \n3                  0   ...                   1         41558.4   \n4                  0   ...                   1         41558.4   \n5                  0   ...                   1         42473.6   \n6                  0   ...                   1         38500.8   \n7                  0   ...                   1         45198.4   \n8                  0   ...                   1         45198.4   \n9                  0   ...                   1         45198.4   \n\n   JT_SENIOR_FLAG  JT_DATASCIENCE_FLAG  Emp_UNIVERSITY_FLAG     Soc Name  \\\n0               0                    0                    0  Accountants   \n1               0                    0                    0  Accountants   \n2               0                    0                    0  Accountants   \n3               0                    0                    0  Accountants   \n4               0                    0                    0  Accountants   \n5               0                    0                    0  Accountants   \n6               0                    0                    1  Accountants   \n7               0                    0                    0  Accountants   \n8               0                    0                    0  Accountants   \n9               0                    0                    0  Accountants   \n\n   Worksite - Split 1 Worksite - Split 2  \\\n0            ABERDEEN         NEW JERSEY   \n1             ADDISON              TEXAS   \n2          ALEXANDRIA           VIRGINIA   \n3            ALHAMBRA         CALIFORNIA   \n4            ALHAMBRA         CALIFORNIA   \n5           ALLENTOWN       PENNSYLVANIA   \n6                AMES               IOWA   \n7             ANAHEIM         CALIFORNIA   \n8             ANAHEIM         CALIFORNIA   \n9             ANAHEIM         CALIFORNIA   \n\n                                         COAST_FLAG    Year  \n0  CALIFORNIA, MASSACHUSETTS, NEW JERSEY and 2 more  2011.0  \n1                                             Other  2011.0  \n2                                             Other  2011.0  \n3  CALIFORNIA, MASSACHUSETTS, NEW JERSEY and 2 more  2011.0  \n4  CALIFORNIA, MASSACHUSETTS, NEW JERSEY and 2 more  2011.0  \n5                                             Other  2011.0  \n6                                             Other  2011.0  \n7  CALIFORNIA, MASSACHUSETTS, NEW JERSEY and 2 more  2011.0  \n8  CALIFORNIA, MASSACHUSETTS, NEW JERSEY and 2 more  2011.0  \n9  CALIFORNIA, MASSACHUSETTS, NEW JERSEY and 2 more  2011.0  \n\n[10 rows x 22 columns]",
            "text/html": "<div>\n<style>\n    .dataframe thead tr:only-child th {\n        text-align: right;\n    }\n\n    .dataframe thead th {\n        text-align: left;\n    }\n\n    .dataframe tbody tr th {\n        vertical-align: top;\n    }\n</style>\n<table border=\"1\" class=\"dataframe\">\n  <thead>\n    <tr style=\"text-align: right;\">\n      <th></th>\n      <th>Case Id</th>\n      <th>Case Status</th>\n      <th>JT_EXECUTIVE_FLAG</th>\n      <th>Prevailing Wage filter</th>\n      <th>Longitude</th>\n      <th>Latitude</th>\n      <th>SoC_COMPUTER_FLAG</th>\n      <th>Employer Name</th>\n      <th>SoC_UPPERCASE_FLAG</th>\n      <th>JT_PROFESSOR_FLAG</th>\n      <th>...</th>\n      <th>Number of Records</th>\n      <th>Prevailing Wage</th>\n      <th>JT_SENIOR_FLAG</th>\n      <th>JT_DATASCIENCE_FLAG</th>\n      <th>Emp_UNIVERSITY_FLAG</th>\n      <th>Soc Name</th>\n      <th>Worksite - Split 1</th>\n      <th>Worksite - Split 2</th>\n      <th>COAST_FLAG</th>\n      <th>Year</th>\n    </tr>\n  </thead>\n  <tbody>\n    <tr>\n      <th>0</th>\n      <td>2817253</td>\n      <td>CERTIFIED</td>\n      <td>0</td>\n      <td>1</td>\n      <td>74.222116</td>\n      <td>40.417095</td>\n      <td>0</td>\n      <td>YANG'S SEAFOOD LLC</td>\n      <td>0</td>\n      <td>0</td>\n      <td>...</td>\n      <td>1</td>\n      <td>52852.8</td>\n      <td>0</td>\n      <td>0</td>\n      <td>0</td>\n      <td>Accountants</td>\n      <td>ABERDEEN</td>\n      <td>NEW JERSEY</td>\n      <td>CALIFORNIA, MASSACHUSETTS, NEW JERSEY and 2 more</td>\n      <td>2011.0</td>\n    </tr>\n    <tr>\n      <th>1</th>\n      <td>2854337</td>\n      <td>CERTIFIED</td>\n      <td>0</td>\n      <td>1</td>\n      <td>96.829169</td>\n      <td>32.961790</td>\n      <td>0</td>\n      <td>CRYSTAL TECHNOLOGY &amp; INDUSTRIES, INC.</td>\n      <td>0</td>\n      <td>0</td>\n      <td>...</td>\n      <td>1</td>\n      <td>41600.0</td>\n      <td>0</td>\n      <td>0</td>\n      <td>0</td>\n      <td>Accountants</td>\n      <td>ADDISON</td>\n      <td>TEXAS</td>\n      <td>Other</td>\n      <td>2011.0</td>\n    </tr>\n    <tr>\n      <th>2</th>\n      <td>2662898</td>\n      <td>CERTIFIED</td>\n      <td>0</td>\n      <td>1</td>\n      <td>77.046921</td>\n      <td>38.804835</td>\n      <td>0</td>\n      <td>FIRST PAINTING INC.</td>\n      <td>0</td>\n      <td>0</td>\n      <td>...</td>\n      <td>1</td>\n      <td>48963.2</td>\n      <td>0</td>\n      <td>0</td>\n      <td>0</td>\n      <td>Accountants</td>\n      <td>ALEXANDRIA</td>\n      <td>VIRGINIA</td>\n      <td>Other</td>\n      <td>2011.0</td>\n    </tr>\n    <tr>\n      <th>3</th>\n      <td>2827634</td>\n      <td>CERTIFIED</td>\n      <td>0</td>\n      <td>1</td>\n      <td>118.127015</td>\n      <td>34.095287</td>\n      <td>0</td>\n      <td>YANG AND COMPANY CPA, A PROFESSIONAL CORP.</td>\n      <td>0</td>\n      <td>0</td>\n      <td>...</td>\n      <td>1</td>\n      <td>41558.4</td>\n      <td>0</td>\n      <td>0</td>\n      <td>0</td>\n      <td>Accountants</td>\n      <td>ALHAMBRA</td>\n      <td>CALIFORNIA</td>\n      <td>CALIFORNIA, MASSACHUSETTS, NEW JERSEY and 2 more</td>\n      <td>2011.0</td>\n    </tr>\n    <tr>\n      <th>4</th>\n      <td>2805991</td>\n      <td>CERTIFIED</td>\n      <td>0</td>\n      <td>1</td>\n      <td>118.127015</td>\n      <td>34.095287</td>\n      <td>0</td>\n      <td>YANG AND COMPANY CPA, A PROFESSIONAL CORPORATION</td>\n      <td>0</td>\n      <td>0</td>\n      <td>...</td>\n      <td>1</td>\n      <td>41558.4</td>\n      <td>0</td>\n      <td>0</td>\n      <td>0</td>\n      <td>Accountants</td>\n      <td>ALHAMBRA</td>\n      <td>CALIFORNIA</td>\n      <td>CALIFORNIA, MASSACHUSETTS, NEW JERSEY and 2 more</td>\n      <td>2011.0</td>\n    </tr>\n    <tr>\n      <th>5</th>\n      <td>2885264</td>\n      <td>CERTIFIED</td>\n      <td>0</td>\n      <td>1</td>\n      <td>75.490183</td>\n      <td>40.608430</td>\n      <td>0</td>\n      <td>PANDYA CONSULTING LLC</td>\n      <td>0</td>\n      <td>0</td>\n      <td>...</td>\n      <td>1</td>\n      <td>42473.6</td>\n      <td>0</td>\n      <td>0</td>\n      <td>0</td>\n      <td>Accountants</td>\n      <td>ALLENTOWN</td>\n      <td>PENNSYLVANIA</td>\n      <td>Other</td>\n      <td>2011.0</td>\n    </tr>\n    <tr>\n      <th>6</th>\n      <td>2908732</td>\n      <td>CERTIFIED</td>\n      <td>0</td>\n      <td>1</td>\n      <td>93.631913</td>\n      <td>42.030781</td>\n      <td>0</td>\n      <td>IOWA STATE UNIVERSITY OF SCIENCE AND TECHNOLOGY</td>\n      <td>0</td>\n      <td>0</td>\n      <td>...</td>\n      <td>1</td>\n      <td>38500.8</td>\n      <td>0</td>\n      <td>0</td>\n      <td>1</td>\n      <td>Accountants</td>\n      <td>AMES</td>\n      <td>IOWA</td>\n      <td>Other</td>\n      <td>2011.0</td>\n    </tr>\n    <tr>\n      <th>7</th>\n      <td>2692448</td>\n      <td>CERTIFIED</td>\n      <td>0</td>\n      <td>1</td>\n      <td>117.914504</td>\n      <td>33.835293</td>\n      <td>0</td>\n      <td>NIDI TEC INC.</td>\n      <td>0</td>\n      <td>0</td>\n      <td>...</td>\n      <td>1</td>\n      <td>45198.4</td>\n      <td>0</td>\n      <td>0</td>\n      <td>0</td>\n      <td>Accountants</td>\n      <td>ANAHEIM</td>\n      <td>CALIFORNIA</td>\n      <td>CALIFORNIA, MASSACHUSETTS, NEW JERSEY and 2 more</td>\n      <td>2011.0</td>\n    </tr>\n    <tr>\n      <th>8</th>\n      <td>2676280</td>\n      <td>CERTIFIED</td>\n      <td>0</td>\n      <td>1</td>\n      <td>117.914504</td>\n      <td>33.835293</td>\n      <td>0</td>\n      <td>ROBERT CHANG ACCOUNTANCY CORP.</td>\n      <td>0</td>\n      <td>0</td>\n      <td>...</td>\n      <td>1</td>\n      <td>45198.4</td>\n      <td>0</td>\n      <td>0</td>\n      <td>0</td>\n      <td>Accountants</td>\n      <td>ANAHEIM</td>\n      <td>CALIFORNIA</td>\n      <td>CALIFORNIA, MASSACHUSETTS, NEW JERSEY and 2 more</td>\n      <td>2011.0</td>\n    </tr>\n    <tr>\n      <th>9</th>\n      <td>2903958</td>\n      <td>CERTIFIED</td>\n      <td>0</td>\n      <td>1</td>\n      <td>117.914504</td>\n      <td>33.835293</td>\n      <td>0</td>\n      <td>VINEERAAJ INC.</td>\n      <td>0</td>\n      <td>0</td>\n      <td>...</td>\n      <td>1</td>\n      <td>45198.4</td>\n      <td>0</td>\n      <td>0</td>\n      <td>0</td>\n      <td>Accountants</td>\n      <td>ANAHEIM</td>\n      <td>CALIFORNIA</td>\n      <td>CALIFORNIA, MASSACHUSETTS, NEW JERSEY and 2 more</td>\n      <td>2011.0</td>\n    </tr>\n  </tbody>\n</table>\n<p>10 rows × 22 columns</p>\n</div>"
          },
          "metadata": {}
        }
      ]
    },
    {
      "metadata": {
        "_cell_guid": "4c4587d9-6105-49e5-b502-c33dbc3a5502",
        "_uuid": "67fc3ef64ecc38fac08b2971871b3f05c4a5362d",
        "trusted": true
      },
      "cell_type": "code",
      "source": "df.info()",
      "execution_count": 8,
      "outputs": [
        {
          "output_type": "stream",
          "text": "<class 'pandas.core.frame.DataFrame'>\nRangeIndex: 2251844 entries, 0 to 2251843\nData columns (total 22 columns):\nCase Id                   int64\nCase Status               object\nJT_EXECUTIVE_FLAG         int64\nPrevailing Wage filter    int64\nLongitude                 float64\nLatitude                  float64\nSoC_COMPUTER_FLAG         int64\nEmployer Name             object\nSoC_UPPERCASE_FLAG        int64\nJT_PROFESSOR_FLAG         int64\nFull Time Position        object\nJob Title                 object\nNumber of Records         int64\nPrevailing Wage           float64\nJT_SENIOR_FLAG            int64\nJT_DATASCIENCE_FLAG       int64\nEmp_UNIVERSITY_FLAG       int64\nSoc Name                  object\nWorksite - Split 1        object\nWorksite - Split 2        object\nCOAST_FLAG                object\nYear                      float64\ndtypes: float64(4), int64(10), object(8)\nmemory usage: 378.0+ MB\n",
          "name": "stdout"
        }
      ]
    },
    {
      "metadata": {
        "collapsed": true,
        "_cell_guid": "61780460-eee6-485f-a509-c10b1571718c",
        "_uuid": "6b6615ec284da3a85c7b4e0e6b7e66cc5ed9d9d0",
        "trusted": true
      },
      "cell_type": "code",
      "source": "df2=df.copy()",
      "execution_count": 9,
      "outputs": []
    },
    {
      "metadata": {
        "_cell_guid": "1c6671e8-2ffc-4010-82b8-e3bb2b04a41f",
        "_uuid": "5c7ff2065b43a16c45099989b2d920a2651d4384",
        "trusted": true
      },
      "cell_type": "code",
      "source": "df2['Case Status'].unique()",
      "execution_count": 10,
      "outputs": [
        {
          "output_type": "execute_result",
          "execution_count": 10,
          "data": {
            "text/plain": "array(['CERTIFIED', 'CERTIFIED-WITHDRAWN', 'DENIED', 'WITHDRAWN',\n       'PENDING QUALITY AND COMPLIANCE REVIEW - UNASSIGNED', nan,\n       'INVALIDATED', 'REJECTED'], dtype=object)"
          },
          "metadata": {}
        }
      ]
    },
    {
      "metadata": {
        "_cell_guid": "0cb9fa25-7502-4934-9a0b-77e10d23f56f",
        "_uuid": "5e79bda692118c9767fbf673202e00052f4973c3",
        "trusted": true
      },
      "cell_type": "code",
      "source": "df3 = df2[(df2['Case Status'].isin(['CERTIFIED', 'CERTIFIED-WITHDRAWN', 'WITHDRAWN', 'DENIED']))&(df2['Prevailing Wage'] < 1000000000)&(df2['Prevailing Wage'] > -1)]\ndf3.shape",
      "execution_count": 11,
      "outputs": [
        {
          "output_type": "execute_result",
          "execution_count": 11,
          "data": {
            "text/plain": "(2251768, 22)"
          },
          "metadata": {}
        }
      ]
    },
    {
      "metadata": {
        "_cell_guid": "ddf2a80d-95ee-4fb4-86ff-86284ca23297",
        "_uuid": "5d1f6c998f6efc4dd642d714c7841a11debe04fb",
        "trusted": true
      },
      "cell_type": "code",
      "source": "df3.info()",
      "execution_count": 12,
      "outputs": [
        {
          "output_type": "stream",
          "text": "<class 'pandas.core.frame.DataFrame'>\nInt64Index: 2251768 entries, 0 to 2251843\nData columns (total 22 columns):\nCase Id                   int64\nCase Status               object\nJT_EXECUTIVE_FLAG         int64\nPrevailing Wage filter    int64\nLongitude                 float64\nLatitude                  float64\nSoC_COMPUTER_FLAG         int64\nEmployer Name             object\nSoC_UPPERCASE_FLAG        int64\nJT_PROFESSOR_FLAG         int64\nFull Time Position        object\nJob Title                 object\nNumber of Records         int64\nPrevailing Wage           float64\nJT_SENIOR_FLAG            int64\nJT_DATASCIENCE_FLAG       int64\nEmp_UNIVERSITY_FLAG       int64\nSoc Name                  object\nWorksite - Split 1        object\nWorksite - Split 2        object\nCOAST_FLAG                object\nYear                      float64\ndtypes: float64(4), int64(10), object(8)\nmemory usage: 395.1+ MB\n",
          "name": "stdout"
        }
      ]
    },
    {
      "metadata": {
        "_cell_guid": "78c0d0e5-e647-4e13-a258-c586c2a47b66",
        "_uuid": "2c88849f5dc2243703ca1a8f8eca4ecc77aa2463",
        "trusted": true
      },
      "cell_type": "code",
      "source": "#pd.isnull(df3).sum()\ndf3['Latitude'].fillna(0,inplace = True)\ndf3['Longitude'].fillna(0,inplace = True)",
      "execution_count": 13,
      "outputs": [
        {
          "output_type": "stream",
          "text": "/opt/conda/lib/python3.6/site-packages/pandas/core/generic.py:3660: SettingWithCopyWarning: \nA value is trying to be set on a copy of a slice from a DataFrame\n\nSee the caveats in the documentation: http://pandas.pydata.org/pandas-docs/stable/indexing.html#indexing-view-versus-copy\n  self._update_inplace(new_data)\n",
          "name": "stderr"
        }
      ]
    },
    {
      "metadata": {
        "_cell_guid": "bf61f19c-6608-4354-8421-813ad2fab06f",
        "_uuid": "6c8c607d28f8b2d86775aa54bb3b41f675ed436a",
        "trusted": true
      },
      "cell_type": "code",
      "source": "df3['Year'] = df3['Year'].astype(float)\ndf3['Year'] = df3['Year'].astype(int)\ndf3.Year = df3.Year.astype(str)\n\ndf3['Longitude'] = df3['Longitude'].astype(float)\ndf3['Longitude'] = df3['Longitude'].astype(int)\ndf3.Longitude = df3.Longitude.astype(str)\n\ndf3['Latitude'] = df3['Latitude'].astype(float)\ndf3['Latitude'] = df3['Latitude'].astype(int)\ndf3.Latitude = df3.Latitude.astype(str)",
      "execution_count": 14,
      "outputs": [
        {
          "output_type": "stream",
          "text": "/opt/conda/lib/python3.6/site-packages/ipykernel_launcher.py:1: SettingWithCopyWarning: \nA value is trying to be set on a copy of a slice from a DataFrame.\nTry using .loc[row_indexer,col_indexer] = value instead\n\nSee the caveats in the documentation: http://pandas.pydata.org/pandas-docs/stable/indexing.html#indexing-view-versus-copy\n  \"\"\"Entry point for launching an IPython kernel.\n/opt/conda/lib/python3.6/site-packages/ipykernel_launcher.py:2: SettingWithCopyWarning: \nA value is trying to be set on a copy of a slice from a DataFrame.\nTry using .loc[row_indexer,col_indexer] = value instead\n\nSee the caveats in the documentation: http://pandas.pydata.org/pandas-docs/stable/indexing.html#indexing-view-versus-copy\n  \n/opt/conda/lib/python3.6/site-packages/pandas/core/generic.py:3110: SettingWithCopyWarning: \nA value is trying to be set on a copy of a slice from a DataFrame.\nTry using .loc[row_indexer,col_indexer] = value instead\n\nSee the caveats in the documentation: http://pandas.pydata.org/pandas-docs/stable/indexing.html#indexing-view-versus-copy\n  self[name] = value\n/opt/conda/lib/python3.6/site-packages/ipykernel_launcher.py:5: SettingWithCopyWarning: \nA value is trying to be set on a copy of a slice from a DataFrame.\nTry using .loc[row_indexer,col_indexer] = value instead\n\nSee the caveats in the documentation: http://pandas.pydata.org/pandas-docs/stable/indexing.html#indexing-view-versus-copy\n  \"\"\"\n/opt/conda/lib/python3.6/site-packages/ipykernel_launcher.py:6: SettingWithCopyWarning: \nA value is trying to be set on a copy of a slice from a DataFrame.\nTry using .loc[row_indexer,col_indexer] = value instead\n\nSee the caveats in the documentation: http://pandas.pydata.org/pandas-docs/stable/indexing.html#indexing-view-versus-copy\n  \n/opt/conda/lib/python3.6/site-packages/ipykernel_launcher.py:9: SettingWithCopyWarning: \nA value is trying to be set on a copy of a slice from a DataFrame.\nTry using .loc[row_indexer,col_indexer] = value instead\n\nSee the caveats in the documentation: http://pandas.pydata.org/pandas-docs/stable/indexing.html#indexing-view-versus-copy\n  if __name__ == '__main__':\n/opt/conda/lib/python3.6/site-packages/ipykernel_launcher.py:10: SettingWithCopyWarning: \nA value is trying to be set on a copy of a slice from a DataFrame.\nTry using .loc[row_indexer,col_indexer] = value instead\n\nSee the caveats in the documentation: http://pandas.pydata.org/pandas-docs/stable/indexing.html#indexing-view-versus-copy\n  # Remove the CWD from sys.path while we load stuff.\n",
          "name": "stderr"
        }
      ]
    },
    {
      "metadata": {
        "collapsed": true,
        "_cell_guid": "33458c2c-8b00-4cd5-a3e0-2eb5fb78778a",
        "_uuid": "7863923efbf8b41f2d5e2edc71caf4e67f72c8dc",
        "trusted": true
      },
      "cell_type": "code",
      "source": "df4 = df3.fillna('BLANK')",
      "execution_count": 15,
      "outputs": []
    },
    {
      "metadata": {
        "_cell_guid": "8c074baa-9372-4f0e-91f9-81f8b4bd0fb3",
        "_uuid": "7fb4806a8a9a236ec914a187fa670b91ca5ab307",
        "trusted": true
      },
      "cell_type": "code",
      "source": "pd.isnull(df4).sum()",
      "execution_count": 16,
      "outputs": [
        {
          "output_type": "execute_result",
          "execution_count": 16,
          "data": {
            "text/plain": "Case Id                   0\nCase Status               0\nJT_EXECUTIVE_FLAG         0\nPrevailing Wage filter    0\nLongitude                 0\nLatitude                  0\nSoC_COMPUTER_FLAG         0\nEmployer Name             0\nSoC_UPPERCASE_FLAG        0\nJT_PROFESSOR_FLAG         0\nFull Time Position        0\nJob Title                 0\nNumber of Records         0\nPrevailing Wage           0\nJT_SENIOR_FLAG            0\nJT_DATASCIENCE_FLAG       0\nEmp_UNIVERSITY_FLAG       0\nSoc Name                  0\nWorksite - Split 1        0\nWorksite - Split 2        0\nCOAST_FLAG                0\nYear                      0\ndtype: int64"
          },
          "metadata": {}
        }
      ]
    },
    {
      "metadata": {
        "trusted": true,
        "_uuid": "aea3ef22018b6bf307fb04e75ee6102091191d8d"
      },
      "cell_type": "code",
      "source": "df4[pd.isnull(df4.SOC_MOD)]",
      "execution_count": 18,
      "outputs": [
        {
          "output_type": "error",
          "ename": "AttributeError",
          "evalue": "'DataFrame' object has no attribute 'SOC_MOD'",
          "traceback": [
            "\u001b[0;31m---------------------------------------------------------------------------\u001b[0m",
            "\u001b[0;31mAttributeError\u001b[0m                            Traceback (most recent call last)",
            "\u001b[0;32m<ipython-input-18-7861b838adb9>\u001b[0m in \u001b[0;36m<module>\u001b[0;34m()\u001b[0m\n\u001b[0;32m----> 1\u001b[0;31m \u001b[0mdf4\u001b[0m\u001b[0;34m[\u001b[0m\u001b[0mpd\u001b[0m\u001b[0;34m.\u001b[0m\u001b[0misnull\u001b[0m\u001b[0;34m(\u001b[0m\u001b[0mdf4\u001b[0m\u001b[0;34m.\u001b[0m\u001b[0mSOC_MOD\u001b[0m\u001b[0;34m)\u001b[0m\u001b[0;34m]\u001b[0m\u001b[0;34m\u001b[0m\u001b[0m\n\u001b[0m",
            "\u001b[0;32m/opt/conda/lib/python3.6/site-packages/pandas/core/generic.py\u001b[0m in \u001b[0;36m__getattr__\u001b[0;34m(self, name)\u001b[0m\n\u001b[1;32m   3079\u001b[0m             \u001b[0;32mif\u001b[0m \u001b[0mname\u001b[0m \u001b[0;32min\u001b[0m \u001b[0mself\u001b[0m\u001b[0;34m.\u001b[0m\u001b[0m_info_axis\u001b[0m\u001b[0;34m:\u001b[0m\u001b[0;34m\u001b[0m\u001b[0m\n\u001b[1;32m   3080\u001b[0m                 \u001b[0;32mreturn\u001b[0m \u001b[0mself\u001b[0m\u001b[0;34m[\u001b[0m\u001b[0mname\u001b[0m\u001b[0;34m]\u001b[0m\u001b[0;34m\u001b[0m\u001b[0m\n\u001b[0;32m-> 3081\u001b[0;31m             \u001b[0;32mreturn\u001b[0m \u001b[0mobject\u001b[0m\u001b[0;34m.\u001b[0m\u001b[0m__getattribute__\u001b[0m\u001b[0;34m(\u001b[0m\u001b[0mself\u001b[0m\u001b[0;34m,\u001b[0m \u001b[0mname\u001b[0m\u001b[0;34m)\u001b[0m\u001b[0;34m\u001b[0m\u001b[0m\n\u001b[0m\u001b[1;32m   3082\u001b[0m \u001b[0;34m\u001b[0m\u001b[0m\n\u001b[1;32m   3083\u001b[0m     \u001b[0;32mdef\u001b[0m \u001b[0m__setattr__\u001b[0m\u001b[0;34m(\u001b[0m\u001b[0mself\u001b[0m\u001b[0;34m,\u001b[0m \u001b[0mname\u001b[0m\u001b[0;34m,\u001b[0m \u001b[0mvalue\u001b[0m\u001b[0;34m)\u001b[0m\u001b[0;34m:\u001b[0m\u001b[0;34m\u001b[0m\u001b[0m\n",
            "\u001b[0;31mAttributeError\u001b[0m: 'DataFrame' object has no attribute 'SOC_MOD'"
          ]
        }
      ]
    },
    {
      "metadata": {
        "_cell_guid": "9fb0108e-da0f-4577-b46e-d44fec907f2a",
        "_uuid": "da5a1548687222ed1e9be38b579b7601e032a160",
        "trusted": true,
        "collapsed": true
      },
      "cell_type": "code",
      "source": "del df4['Prevailing Wage filter']\ndel df4['Number of Records']\n#del df4['Longitude']\n#del df4['Latitude']",
      "execution_count": 17,
      "outputs": []
    },
    {
      "metadata": {
        "_cell_guid": "6ecea3e6-15be-4a19-a7b8-f68f05d783f0",
        "_uuid": "03de1cc1d5b39fec81c16c9779656a850602288d",
        "trusted": true
      },
      "cell_type": "code",
      "source": "df5 = df4.copy()",
      "execution_count": 47,
      "outputs": []
    },
    {
      "metadata": {
        "trusted": true,
        "_uuid": "2fff44d8a4161d8030405e62d8fa2041658d5e24"
      },
      "cell_type": "code",
      "source": "# pickle.dump(df5, open('df5.pkl', 'wb'))\n# df5 = pickle.load(open('df5.pkl', 'rb'))",
      "execution_count": 21,
      "outputs": [
        {
          "output_type": "error",
          "ename": "OSError",
          "evalue": "[Errno 28] No space left on device",
          "traceback": [
            "\u001b[0;31m---------------------------------------------------------------------------\u001b[0m",
            "\u001b[0;31mOSError\u001b[0m                                   Traceback (most recent call last)",
            "\u001b[0;32m<ipython-input-21-09ef0b588ce8>\u001b[0m in \u001b[0;36m<module>\u001b[0;34m()\u001b[0m\n\u001b[0;32m----> 1\u001b[0;31m \u001b[0mpickle\u001b[0m\u001b[0;34m.\u001b[0m\u001b[0mdump\u001b[0m\u001b[0;34m(\u001b[0m\u001b[0mdf5\u001b[0m\u001b[0;34m,\u001b[0m \u001b[0mopen\u001b[0m\u001b[0;34m(\u001b[0m\u001b[0;34m'df5.pkl'\u001b[0m\u001b[0;34m,\u001b[0m \u001b[0;34m'wb'\u001b[0m\u001b[0;34m)\u001b[0m\u001b[0;34m)\u001b[0m\u001b[0;34m\u001b[0m\u001b[0m\n\u001b[0m\u001b[1;32m      2\u001b[0m \u001b[0mdf5\u001b[0m \u001b[0;34m=\u001b[0m \u001b[0mpickle\u001b[0m\u001b[0;34m.\u001b[0m\u001b[0mload\u001b[0m\u001b[0;34m(\u001b[0m\u001b[0mopen\u001b[0m\u001b[0;34m(\u001b[0m\u001b[0;34m'df5.pkl'\u001b[0m\u001b[0;34m,\u001b[0m \u001b[0;34m'rb'\u001b[0m\u001b[0;34m)\u001b[0m\u001b[0;34m)\u001b[0m\u001b[0;34m\u001b[0m\u001b[0m\n",
            "\u001b[0;31mOSError\u001b[0m: [Errno 28] No space left on device"
          ]
        }
      ]
    },
    {
      "metadata": {
        "_cell_guid": "a37c5cfc-c8da-4fea-ae52-de7d2d19fde4",
        "_uuid": "9611855f3d9d692dc57aeda8c3fcad1f7ce6c369"
      },
      "cell_type": "markdown",
      "source": "# Feature Engineering\n*     Soc Name\n*     Employer Name\n*     Job Title"
    },
    {
      "metadata": {
        "_cell_guid": "c1311cd9-3fb8-4746-bbff-067164f3831a",
        "_uuid": "929dbb3710f7dee3021c26fb02f5b7caa2ba6eb7"
      },
      "cell_type": "markdown",
      "source": "# 1. Cleaning text data"
    },
    {
      "metadata": {
        "_cell_guid": "7a4e364f-957e-4c59-a988-81a3b925228b",
        "_uuid": "e4a3299a7c6db19e55cbf3fd7358ffc025de1c0b",
        "trusted": true
      },
      "cell_type": "code",
      "source": "import string\nfrom time import time\nt0 = time()\ntable = {ord(char):ord(' ') if char!= '&' else ord(char) for char in string.punctuation}\ntable_digits  =  {ord(char):ord(' ') for char in string.digits}\ndef remove_punctuation_and_casing(line):\n    line = line.translate(table)\n    line = line.translate(table_digits)\n    line = line.upper()\n    return line\ndf5['Soc Name'].fillna('BLANK',inplace=True)\ndf5['SOC_MOD'] = df5['Soc Name'].progress_apply(remove_punctuation_and_casing)\nprint (df5['SOC_MOD'].sample(2))\n\ndf5['Job Title'].fillna('BLANK',inplace=True)\ndf5['JT_MOD'] = df5['Job Title'].progress_apply(remove_punctuation_and_casing)\nprint (df5['JT_MOD'].sample(2))\n\ndf5['Employer Name'].fillna('BLANK',inplace=True)\ndf5['EMP_MOD'] = df5['Employer Name'].progress_apply(remove_punctuation_and_casing)\nprint (df5['EMP_MOD'].sample(2))",
      "execution_count": 48,
      "outputs": [
        {
          "output_type": "stream",
          "text": "progress bar: 100%|██████████| 2251768/2251768 [00:08<00:00, 266211.90it/s]\nprogress bar:   0%|          | 0/2251768 [00:00<?, ?it/s]",
          "name": "stderr"
        },
        {
          "output_type": "stream",
          "text": "1502125    BIOCHEMISTS AND BIOPHYSICISTS\n1582322                     LOGISTICIANS\nName: SOC_MOD, dtype: object\n",
          "name": "stdout"
        },
        {
          "output_type": "stream",
          "text": "progress bar: 100%|██████████| 2251768/2251768 [00:07<00:00, 289675.95it/s]\nprogress bar:   1%|          | 15476/2251768 [00:00<00:14, 154757.20it/s]",
          "name": "stderr"
        },
        {
          "output_type": "stream",
          "text": "386024                             BUSINESS ANALYST\n1743632    COMPUTER SOFTWARE ENGINEER  APPLICATIONS\nName: JT_MOD, dtype: object\n",
          "name": "stdout"
        },
        {
          "output_type": "stream",
          "text": "progress bar: 100%|██████████| 2251768/2251768 [00:07<00:00, 290164.88it/s]\n",
          "name": "stderr"
        },
        {
          "output_type": "stream",
          "text": "1638586    ARUP NORTH AMERICA LTD \n82634          YELLOWPAGES COM LLC\nName: EMP_MOD, dtype: object\n",
          "name": "stdout"
        }
      ]
    },
    {
      "metadata": {
        "_cell_guid": "fc468209-a51f-4d7e-9706-ed8bc93624c2",
        "_uuid": "7baf8d6516578128aa28dbad67474af4c2484ab7",
        "trusted": true
      },
      "cell_type": "code",
      "source": "import nltk\nfrom nltk.corpus import stopwords\nfrom nltk import word_tokenize\nimport re\nfrom nltk.stem import PorterStemmer\ntry:\n    stemmed = PorterStemmer().stem(word_tokenize('I AM THE JACK OF ALL TRADES')[6])\n    print (word_tokenize(\"I AM SAM\"))\n    print (stemmed)\nexcept:\n    print ('IMPORT FAILED. CHECK NLTK DATA')",
      "execution_count": 49,
      "outputs": [
        {
          "output_type": "stream",
          "text": "['I', 'AM', 'SAM']\ntrade\n",
          "name": "stdout"
        }
      ]
    },
    {
      "metadata": {
        "_cell_guid": "311fcbbd-948f-455d-b281-ad57a0a05bca",
        "_uuid": "50451ecb51c737537f396a5ea48cbe86abd7315f",
        "trusted": true
      },
      "cell_type": "code",
      "source": "t0= time()\nstemmer = PorterStemmer()\ndef stem_line(line):\n    line = line.split()\n    line = [stemmer.stem(word) for word in line]\n    line = \" \".join(line)\n    line = line.upper()\n    return line\ndf5['SOC_MOD'] = df5['SOC_MOD'].progress_apply(stem_line)\nt1 = time()\nprint (\"elapsed time is {} seconds\".format(int(t1-t0)))\nprint (df5['SOC_MOD'].sample(2))\n\ndf5['JT_MOD'] = df5['JT_MOD'].progress_apply(stem_line)\nt1 = time()\nprint (\"elapsed time is {} seconds\".format(int(t1-t0)))\nprint (df5['JT_MOD'].sample(2))\n\ndf5['EMP_MOD'] = df5['EMP_MOD'].progress_apply(stem_line)\nt1 = time()\nprint (\"elapsed time is {} seconds\".format(int(t1-t0)))\nprint (df5['EMP_MOD'].sample(2))",
      "execution_count": 50,
      "outputs": [
        {
          "output_type": "stream",
          "text": "progress bar: 100%|██████████| 2251768/2251768 [02:25<00:00, 15473.25it/s]\nprogress bar:   0%|          | 1530/2251768 [00:00<02:27, 15294.84it/s]",
          "name": "stderr"
        },
        {
          "output_type": "stream",
          "text": "elapsed time is 145 seconds\n1177667    COMPUT SOFTWAR ENGIN APPLIC\n422056           COMPUT SYSTEM ANALYST\nName: SOC_MOD, dtype: object\n",
          "name": "stdout"
        },
        {
          "output_type": "stream",
          "text": "progress bar: 100%|██████████| 2251768/2251768 [02:02<00:00, 18379.73it/s]\nprogress bar:   0%|          | 0/2251768 [00:00<?, ?it/s]",
          "name": "stderr"
        },
        {
          "output_type": "stream",
          "text": "elapsed time is 268 seconds\n739495                 CONSULT\n1726469    SR PROGRAMM ANALYST\nName: JT_MOD, dtype: object\n",
          "name": "stdout"
        },
        {
          "output_type": "stream",
          "text": "progress bar: 100%|██████████| 2251768/2251768 [02:28<00:00, 15211.25it/s]\n",
          "name": "stderr"
        },
        {
          "output_type": "stream",
          "text": "elapsed time is 416 seconds\n87640              DONGGUK UNIVERS LO ANGEL\n961328    TWIN CITI YOUTH SOCCER ASSOCI INC\nName: EMP_MOD, dtype: object\n",
          "name": "stdout"
        }
      ]
    },
    {
      "metadata": {
        "_cell_guid": "18b14620-f383-47c6-a95f-64b1ad44f1bc",
        "_uuid": "ec98c2dd42e8dbdbedef30a4e466d4a6d583408f"
      },
      "cell_type": "markdown",
      "source": "# 2. NMF and LDA for Topic modelling on SoC, JT, and EMP"
    },
    {
      "metadata": {
        "_cell_guid": "3b3bec84-5c53-4d4b-b5f5-eb191601ee53",
        "_uuid": "04afd2461221aae9bfce6bc097851b0bbad18949"
      },
      "cell_type": "markdown",
      "source": "# SOC NAME"
    },
    {
      "metadata": {
        "collapsed": true,
        "_cell_guid": "e864191e-3d23-4299-bec4-b895c2cc01b1",
        "_uuid": "b1bf37e49dcb719451a67950e449772d31d47846",
        "trusted": true
      },
      "cell_type": "code",
      "source": "from sklearn.feature_extraction.text import TfidfVectorizer, CountVectorizer\nfrom sklearn.decomposition import NMF, LatentDirichletAllocation\n\ndef display_topics(model, feature_names, no_top_words):\n    for topic_idx, topic in enumerate(model.components_):\n        print (\"Topic %d:\" % (topic_idx))\n        print (\" \".join([feature_names[i]\n                        for i in topic.argsort()[:-no_top_words - 1:-1]]))",
      "execution_count": 51,
      "outputs": []
    },
    {
      "metadata": {
        "collapsed": true,
        "_cell_guid": "9ab841ff-7061-429e-865c-1540f796f872",
        "_uuid": "3a01cd801ff3d393d0a79ac4c74310e11d9ac65a",
        "trusted": true
      },
      "cell_type": "code",
      "source": "documents_SOC = df5['SOC_MOD']\nno_features = 10000\nno_topics = 18\nno_top_words = 10",
      "execution_count": 52,
      "outputs": []
    },
    {
      "metadata": {
        "_cell_guid": "346b2a64-a9d9-4f65-9266-a751ccd5c515",
        "_uuid": "34708ae9e29ee5269e1795511665c91313a1d8aa",
        "trusted": true
      },
      "cell_type": "code",
      "source": "documents_SOC.shape",
      "execution_count": 53,
      "outputs": [
        {
          "output_type": "execute_result",
          "execution_count": 53,
          "data": {
            "text/plain": "(2251768,)"
          },
          "metadata": {}
        }
      ]
    },
    {
      "metadata": {
        "collapsed": true,
        "_cell_guid": "93660b8e-a588-4eb1-b314-9cb3dcf296cc",
        "_uuid": "1db164b04aa22ece63aaaa141998fd908148b657",
        "trusted": true
      },
      "cell_type": "code",
      "source": "# NMF is able to use tf-idf\ntfidf_vectorizer_SOC = TfidfVectorizer(max_df=0.95, min_df=2, max_features=no_features, stop_words='english')\ntfidf_SOC = tfidf_vectorizer_SOC.fit_transform(documents_SOC)\ntfidf_feature_names_SOC = tfidf_vectorizer_SOC.get_feature_names()",
      "execution_count": 54,
      "outputs": []
    },
    {
      "metadata": {
        "trusted": true,
        "_uuid": "33c10e58a7843ec9a09687a3522fa38b88f2dac4"
      },
      "cell_type": "code",
      "source": "# Run NMF\nnmf_SOC = NMF(n_components=no_topics, random_state=1, alpha=.1, l1_ratio=.5, init='nndsvd').fit(tfidf_SOC)\ndisplay_topics(nmf_SOC, tfidf_feature_names_SOC, no_top_words)",
      "execution_count": 55,
      "outputs": [
        {
          "output_type": "stream",
          "text": "Topic 0:\nanalyst comput network secur credit budget non softwar applic web\nTopic 1:\napplic softwar develop web comput engin non train secur specialist\nTopic 2:\nprogramm comput inform network non specialist softwar applic support architect\nTopic 3:\noccup comput inform therapist network specialist softwar applic support architect\nTopic 4:\nengin electron comput industri civil sale softwar applic chemic hardwar\nTopic 5:\nmanag inform analyst sale gener architectur servic market purchas health\nTopic 6:\nadministr network databas comput educ architect inform servic support specialist\nTopic 7:\naccount auditor bookkeep audit clerk collector zoologist estat execut excav\nTopic 8:\nmarket specialist research analyst public support relat train resourc human\nTopic 9:\nfinanci analyst specialist manag secur commod person advisor sa examin\nTopic 10:\nsoftwar develop assur qualiti tester engin comput non amp escort\nTopic 11:\nscientist epidemiologist medic biolog inform materi technician technologist life research\nTopic 12:\nsurgeon physician assist oral maxillofaci ergonomist excav examin event ethnic\nTopic 13:\noper research analyst gener busi specialist internist inform scientist dentist\nTopic 14:\nmechan engin technician softwar chemic materi applic architectur biomed sale\nTopic 15:\nteacher postsecondari special school scienc health specialti busi educ secondari\nTopic 16:\nelectr engin technician softwar chemic materi applic architectur biomed sale\nTopic 17:\ntherapist physic occup scientist postsecondari recreat life social assist marriag\n",
          "name": "stdout"
        }
      ]
    },
    {
      "metadata": {
        "trusted": true,
        "_uuid": "0eca744eebf2bd5327aa7a79e078bfd95b1c38ea"
      },
      "cell_type": "code",
      "source": "pickle.dump(nmf_SOC, open('nmf_SOC.pkl', 'wb'))",
      "execution_count": 56,
      "outputs": [
        {
          "output_type": "error",
          "ename": "OSError",
          "evalue": "[Errno 28] No space left on device",
          "traceback": [
            "\u001b[0;31m---------------------------------------------------------------------------\u001b[0m",
            "\u001b[0;31mOSError\u001b[0m                                   Traceback (most recent call last)",
            "\u001b[0;32m<ipython-input-56-523c8fa16499>\u001b[0m in \u001b[0;36m<module>\u001b[0;34m()\u001b[0m\n\u001b[0;32m----> 1\u001b[0;31m \u001b[0mpickle\u001b[0m\u001b[0;34m.\u001b[0m\u001b[0mdump\u001b[0m\u001b[0;34m(\u001b[0m\u001b[0mnmf_SOC\u001b[0m\u001b[0;34m,\u001b[0m \u001b[0mopen\u001b[0m\u001b[0;34m(\u001b[0m\u001b[0;34m'nmf_SOC.pkl'\u001b[0m\u001b[0;34m,\u001b[0m \u001b[0;34m'wb'\u001b[0m\u001b[0;34m)\u001b[0m\u001b[0;34m)\u001b[0m\u001b[0;34m\u001b[0m\u001b[0m\n\u001b[0m",
            "\u001b[0;31mOSError\u001b[0m: [Errno 28] No space left on device"
          ]
        }
      ]
    },
    {
      "metadata": {
        "_cell_guid": "d27506ea-493f-45f9-93df-88b254560a92",
        "_uuid": "c7281d39bc50e099a7af34851dcf7fbe4e3883c3",
        "trusted": true
      },
      "cell_type": "code",
      "source": "nmf_SOC = pickle.load(open('nmf_SOC.pkl', 'rb'))",
      "execution_count": 192,
      "outputs": [
        {
          "output_type": "stream",
          "text": "Topic 0:\nanalyst comput budget research credit electron network hardwar secur non\nTopic 1:\nprogramm comput inform non electron network hardwar support engin specialist\nTopic 2:\napplic softwar develop train web comput engin non specialist secur\nTopic 3:\noccup comput inform therapist electron network hardwar support specialist scienc\nTopic 4:\naccount auditor audit bookkeep clerk flight equip examin event ethnic\nTopic 5:\nmanag inform analyst architectur servic gener sale health market promot\nTopic 6:\nengin mechan civil electr electron industri chemic architectur biomed hardwar\nTopic 7:\nmarket specialist research analyst public relat support resourc human train\nTopic 8:\nadministr network databas comput architect educ support servic specialist inform\nTopic 9:\nscientist biolog epidemiologist medic technician inform materi research technologist food\nTopic 10:\nfinanci analyst specialist manag person advisor commod secur examin budget\nTopic 11:\nteacher postsecondari scienc busi special school specialti health educ secondari\nTopic 12:\nbiochemist biophysicist zoologist equip examin event ethnic estim estat escort\nTopic 13:\noper research busi analyst specialist gener inform internist scientist dentist\nTopic 14:\nsoftwar develop comput engin assur qualiti tester non train web\nTopic 15:\ndesign industri commerci graphic interior fashion product engin set exhibit\nTopic 16:\nsurgeon physician assist oral maxillofaci ethnic estim estat escort equip\nTopic 17:\ntherapist physic occup scientist recreat marriag postsecondari life famili social\n",
          "name": "stdout"
        }
      ]
    },
    {
      "metadata": {
        "collapsed": true,
        "_cell_guid": "7a804db5-a76c-4abc-9f56-6e1260d3f581",
        "_uuid": "8ab9e18467bb32d9810658d65b08e000e824ae5c",
        "trusted": true
      },
      "cell_type": "code",
      "source": "# LDA can only use raw term counts for LDA because it is a probabilistic graphical model\n# tf_vectorizer = CountVectorizer(max_df=0.95, min_df=2, max_features=no_features, stop_words='english')\n# tf = tf_vectorizer.fit_transform(documents)\n# tf_feature_names = tf_vectorizer.get_feature_names()",
      "execution_count": 193,
      "outputs": []
    },
    {
      "metadata": {
        "collapsed": true,
        "_cell_guid": "8cebe6ff-4b05-4f2d-97dd-3e506f079a03",
        "_uuid": "1e47ba216312fb024c36f48f5e7ae194252de75f",
        "trusted": true
      },
      "cell_type": "code",
      "source": "# Run LDA\n# lda = LatentDirichletAllocation(n_topics=no_topics, max_iter=5,n_jobs=4 ,learning_method='online',verbose=2,learning_offset=50.,random_state=0, batch_size=10000).fit(tf)\n# display_topics(lda, tf_feature_names, no_top_words)",
      "execution_count": 194,
      "outputs": []
    },
    {
      "metadata": {
        "collapsed": true,
        "_cell_guid": "6012d3c5-9ebf-40d2-a7b4-a5564eafcebe",
        "_uuid": "0cc444b1e311567e7d8e3c34df17979b45dd636b",
        "trusted": true
      },
      "cell_type": "code",
      "source": "nmf_topics_SOC = nmf_SOC.transform(tfidf_SOC)\nbest_topic_SOC = np.argmax(nmf_topics_SOC,axis=1)\nd_SOC = pd.DataFrame(data=best_topic_SOC, columns = ['topic_SOC'])",
      "execution_count": 57,
      "outputs": []
    },
    {
      "metadata": {
        "_cell_guid": "553f1a18-f296-4e70-bd8c-45b6434c6f88",
        "_uuid": "9a3b6e84ceae3b86d4ba9a81f7004fbf571f919f",
        "trusted": true
      },
      "cell_type": "code",
      "source": "!free -g",
      "execution_count": 58,
      "outputs": [
        {
          "output_type": "stream",
          "text": "             total       used       free     shared    buffers     cached\r\nMem:           113         82         30          1          0         56\r\n-/+ buffers/cache:         25         87\r\nSwap:            0          0          0\r\n",
          "name": "stdout"
        }
      ]
    },
    {
      "metadata": {
        "collapsed": true,
        "_cell_guid": "8d9cb8c4-629a-46b3-89f2-942e90e5f2a8",
        "_uuid": "e1cf4ac74ab66ab59141775820dc2fb9c4cdcbd7",
        "trusted": true
      },
      "cell_type": "code",
      "source": "",
      "execution_count": null,
      "outputs": []
    },
    {
      "metadata": {
        "_cell_guid": "056aaee4-3fd3-4d28-b160-ca98a2bdcd32",
        "_uuid": "c80d1babb82b673de824df89461ec33bbf0a373b",
        "trusted": true
      },
      "cell_type": "code",
      "source": "!df -h",
      "execution_count": 59,
      "outputs": [
        {
          "output_type": "stream",
          "text": "Filesystem      Size  Used Avail Use% Mounted on\r\noverlay        1007G   46G  962G   5% /\r\ntmpfs            64M     0   64M   0% /dev\r\ntmpfs            57G     0   57G   0% /sys/fs/cgroup\r\n/dev/loop1      976M  976M     0 100% /tmp\r\n/dev/md127      1.5T  478G  998G  33% /kaggle/input\r\n/dev/sdb       1007G   46G  962G   5% /etc/hosts\r\nshm              64M  4.0K   64M   1% /dev/shm\r\n/dev/sda1        99G  4.0G   91G   5% /kaggle/lib/kagglegym\r\ntmpfs            57G     0   57G   0% /sys/firmware\r\n",
          "name": "stdout"
        }
      ]
    },
    {
      "metadata": {
        "_cell_guid": "2748a23c-b034-4e33-815d-eaa641482a91",
        "_uuid": "4cecdcda593086c14514722c2c3301ff2ec2529c"
      },
      "cell_type": "markdown",
      "source": "# ** Job Title**"
    },
    {
      "metadata": {
        "collapsed": true,
        "_cell_guid": "8d1d01e2-79e6-4e79-8a5c-c2ef27a60323",
        "_uuid": "931f6fb63f8a82d2c1d6e2414728da357c54284e",
        "trusted": true
      },
      "cell_type": "code",
      "source": "from sklearn.feature_extraction.text import TfidfVectorizer, CountVectorizer\nfrom sklearn.decomposition import NMF, LatentDirichletAllocation\n\ndef display_topics(model, feature_names, no_top_words):\n    for topic_idx, topic in enumerate(model.components_):\n        print (\"Topic %d:\" % (topic_idx))\n        print (\" \".join([feature_names[i]\n                        for i in topic.argsort()[:-no_top_words - 1:-1]]))",
      "execution_count": 60,
      "outputs": []
    },
    {
      "metadata": {
        "collapsed": true,
        "_cell_guid": "f28eea88-9785-436a-9903-f5c9f62ad0a6",
        "_uuid": "2ddbad29566160ade28c8eeedaf2dea6261c8e44",
        "trusted": true
      },
      "cell_type": "code",
      "source": "documents_JT = df5['JT_MOD']\nno_features = 10000\nno_topics = 18\nno_top_words = 10",
      "execution_count": 61,
      "outputs": []
    },
    {
      "metadata": {
        "collapsed": true,
        "_cell_guid": "aa873f20-bfc1-4006-b3a7-9fbc8b7ccf18",
        "_uuid": "c58c3945e588384f8dd21be1280cd123a709b7a7",
        "trusted": true
      },
      "cell_type": "code",
      "source": "# NMF is able to use tf-idf\ntfidf_vectorizer_JT = TfidfVectorizer(max_df=0.95, min_df=2, max_features=no_features, stop_words='english')\ntfidf_JT = tfidf_vectorizer_JT.fit_transform(documents_JT)\ntfidf_feature_names_JT = tfidf_vectorizer_JT.get_feature_names()",
      "execution_count": 62,
      "outputs": []
    },
    {
      "metadata": {
        "_cell_guid": "28905452-8acc-4a55-b1f8-fd37221026a7",
        "_uuid": "d7bc6a12c55a299438a7ed73e6bbfd05e9e07834",
        "trusted": true
      },
      "cell_type": "code",
      "source": "# Run NMF\nnmf_JT = NMF(n_components=no_topics, random_state=1, alpha=.1, l1_ratio=.5, init='nndsvd').fit(tfidf_JT)\ndisplay_topics(nmf_JT, tfidf_feature_names_JT, no_top_words)",
      "execution_count": 63,
      "outputs": [
        {
          "output_type": "stream",
          "text": "Topic 0:\nprogramm analyst configur level sr sa java statist ii profession\nTopic 1:\nsoftwar engin tester develop architect member yahoo mt embed dev\nTopic 2:\ncomput configur specialist architect network support admin inform qualiti scientist\nTopic 3:\ndevelop java web net sr ii interfac user etl specialist\nTopic 4:\nconsult technic sap princip er lead function sr manag infrastructur\nTopic 5:\nanalyst technolog financi qa market ii sr data jc sap\nTopic 6:\nmanag project product program technic market account oper advisori jc\nTopic 7:\ntechnolog lead technic architect team inform modul project solut practition\nTopic 8:\nsenior advisori jc architect specialist tax design scientist account data\nTopic 9:\nassoci postdoctor advisori director research attorney architect professor doctor post\nTopic 10:\nbusi intellig specialist oper director process sr manag analyst intern\nTopic 11:\nengin design mechan sr staff ii network process lead product\nTopic 12:\nassist professor clinic visit presid vice audit medicin scienc mathemat\nTopic 13:\nadministr databas network oracl sr level ii sql webspher unix\nTopic 14:\ntest specialist technic lead level support ii qualiti member autom\nTopic 15:\nqualiti assur tester specialist staff control sr member manag coordin\nTopic 16:\nresearch market scientist fellow postdoctor specialist oper ii doctor post\nTopic 17:\napplic architect support oracl specialist sr solut technic field iii\n",
          "name": "stdout"
        }
      ]
    },
    {
      "metadata": {
        "collapsed": true,
        "_cell_guid": "2139825c-673f-47a0-a65e-b82e6f483c81",
        "_uuid": "58c597bd0313984ec10eca2368e8b4979d044e52",
        "trusted": true
      },
      "cell_type": "code",
      "source": "# LDA can only use raw term counts for LDA because it is a probabilistic graphical model\n# tf_vectorizer = CountVectorizer(max_df=0.95, min_df=2, max_features=no_features, stop_words='english')\n# tf = tf_vectorizer.fit_transform(documents)\n# tf_feature_names = tf_vectorizer.get_feature_names()",
      "execution_count": 201,
      "outputs": []
    },
    {
      "metadata": {
        "collapsed": true,
        "_cell_guid": "22218d37-60a2-4f75-9b38-27a1163313bd",
        "_uuid": "d05eae8f02a7b2a16e4d4ebd9fffce3c052d2a29",
        "trusted": true
      },
      "cell_type": "code",
      "source": "# Run LDA\n# lda = LatentDirichletAllocation(n_topics=no_topics, max_iter=5,n_jobs=4 ,learning_method='online',verbose=2,learning_offset=50.,random_state=0, batch_size=10000).fit(tf)\n# display_topics(lda, tf_feature_names, no_top_words)",
      "execution_count": 202,
      "outputs": []
    },
    {
      "metadata": {
        "collapsed": true,
        "_cell_guid": "8bce2133-8e99-49fe-bc17-08188de4e957",
        "_uuid": "3b4664b08996f3c32e3f59c489dc0925fd6857fe",
        "trusted": true
      },
      "cell_type": "code",
      "source": "nmf_topics_JT = nmf_JT.transform(tfidf_JT)\nbest_topic_JT = np.argmax(nmf_topics_JT,axis=1)\nd_JT = pd.DataFrame(data=best_topic_JT, columns = ['topic_JT'])",
      "execution_count": 64,
      "outputs": []
    },
    {
      "metadata": {
        "collapsed": true,
        "_cell_guid": "1854d448-bfc4-48f2-9d64-d4f5b050207b",
        "_uuid": "66f4ec518735ebcaa404e6a132afadc73d15c72b",
        "trusted": true
      },
      "cell_type": "code",
      "source": "",
      "execution_count": null,
      "outputs": []
    },
    {
      "metadata": {
        "collapsed": true,
        "_cell_guid": "b5ed81e5-3157-4430-adad-5d89def490a4",
        "_uuid": "65a6da498aa88af804df96a317a91e6af017adea",
        "trusted": true
      },
      "cell_type": "code",
      "source": "",
      "execution_count": null,
      "outputs": []
    },
    {
      "metadata": {
        "collapsed": true,
        "_cell_guid": "553f1a18-f296-4e70-bd8c-45b6434c6f88",
        "_uuid": "9a3b6e84ceae3b86d4ba9a81f7004fbf571f919f",
        "trusted": true
      },
      "cell_type": "code",
      "source": "",
      "execution_count": null,
      "outputs": []
    },
    {
      "metadata": {
        "_cell_guid": "2748a23c-b034-4e33-815d-eaa641482a91",
        "_uuid": "4cecdcda593086c14514722c2c3301ff2ec2529c"
      },
      "cell_type": "markdown",
      "source": "# ** Employer Name**"
    },
    {
      "metadata": {
        "collapsed": true,
        "_cell_guid": "8d1d01e2-79e6-4e79-8a5c-c2ef27a60323",
        "_uuid": "931f6fb63f8a82d2c1d6e2414728da357c54284e",
        "trusted": true
      },
      "cell_type": "code",
      "source": "# from sklearn.feature_extraction.text import TfidfVectorizer, CountVectorizer\n# from sklearn.decomposition import NMF, LatentDirichletAllocation\n\n# def display_topics(model, feature_names, no_top_words):\n#     for topic_idx, topic in enumerate(model.components_):\n#         print (\"Topic %d:\" % (topic_idx))\n#         print (\" \".join([feature_names[i]\n#                         for i in topic.argsort()[:-no_top_words - 1:-1]]))",
      "execution_count": 140,
      "outputs": []
    },
    {
      "metadata": {
        "collapsed": true,
        "_cell_guid": "f28eea88-9785-436a-9903-f5c9f62ad0a6",
        "_uuid": "2ddbad29566160ade28c8eeedaf2dea6261c8e44",
        "trusted": true
      },
      "cell_type": "code",
      "source": "# documents_EMP = df5['EMP_MOD']\n# no_features = 10000\n# no_topics = 18\n# no_top_words = 10",
      "execution_count": 141,
      "outputs": []
    },
    {
      "metadata": {
        "collapsed": true,
        "_cell_guid": "aa873f20-bfc1-4006-b3a7-9fbc8b7ccf18",
        "_uuid": "c58c3945e588384f8dd21be1280cd123a709b7a7",
        "trusted": true
      },
      "cell_type": "code",
      "source": "# # NMF is able to use tf-idf\n# tfidf_vectorizer_EMP = TfidfVectorizer(max_df=0.95, min_df=2, max_features=no_features, stop_words='english')\n# tfidf_EMP = tfidf_vectorizer_EMP.fit_transform(documents_EMP)\n# tfidf_feature_names_EMP = tfidf_vectorizer_EMP.get_feature_names()",
      "execution_count": 142,
      "outputs": []
    },
    {
      "metadata": {
        "_cell_guid": "28905452-8acc-4a55-b1f8-fd37221026a7",
        "_uuid": "d7bc6a12c55a299438a7ed73e6bbfd05e9e07834",
        "trusted": true,
        "collapsed": true
      },
      "cell_type": "code",
      "source": "# # Run NMF\n# nmf_EMP = NMF(n_components=no_topics, random_state=1, alpha=.1, l1_ratio=.5, init='nndsvd').fit(tfidf_EMP)\n# display_topics(nmf_EMP, tfidf_feature_names_EMP, no_top_words)",
      "execution_count": 143,
      "outputs": []
    },
    {
      "metadata": {
        "collapsed": true,
        "_cell_guid": "2139825c-673f-47a0-a65e-b82e6f483c81",
        "_uuid": "58c597bd0313984ec10eca2368e8b4979d044e52",
        "trusted": true
      },
      "cell_type": "code",
      "source": "# LDA can only use raw term counts for LDA because it is a probabilistic graphical model\n# tf_vectorizer = CountVectorizer(max_df=0.95, min_df=2, max_features=no_features, stop_words='english')\n# tf = tf_vectorizer.fit_transform(documents)\n# tf_feature_names = tf_vectorizer.get_feature_names()",
      "execution_count": 144,
      "outputs": []
    },
    {
      "metadata": {
        "collapsed": true,
        "_cell_guid": "22218d37-60a2-4f75-9b38-27a1163313bd",
        "_uuid": "d05eae8f02a7b2a16e4d4ebd9fffce3c052d2a29",
        "trusted": true
      },
      "cell_type": "code",
      "source": "# Run LDA\n# lda = LatentDirichletAllocation(n_topics=no_topics, max_iter=5,n_jobs=4 ,learning_method='online',verbose=2,learning_offset=50.,random_state=0, batch_size=10000).fit(tf)\n# display_topics(lda, tf_feature_names, no_top_words)",
      "execution_count": 145,
      "outputs": []
    },
    {
      "metadata": {
        "collapsed": true,
        "_cell_guid": "8bce2133-8e99-49fe-bc17-08188de4e957",
        "_uuid": "3b4664b08996f3c32e3f59c489dc0925fd6857fe",
        "trusted": true
      },
      "cell_type": "code",
      "source": "# nmf_topics_EMP = nmf_EMP.transform(tfidf_EMP)\n# best_topic_EMP = np.argmax(nmf_topics_EMP,axis=1)\n# d_EMP = pd.DataFrame(data=best_topic_EMP, columns = ['topic_EMP'])",
      "execution_count": 146,
      "outputs": []
    },
    {
      "metadata": {
        "collapsed": true,
        "_cell_guid": "d0927089-f1c5-45ac-bea9-a22fe84daf8a",
        "_uuid": "ba79908d23bee6640e299d39c160cb063e78e1bb",
        "trusted": true
      },
      "cell_type": "code",
      "source": "",
      "execution_count": null,
      "outputs": []
    },
    {
      "metadata": {
        "collapsed": true,
        "_cell_guid": "5d820e53-d404-415f-9739-101d45143915",
        "_uuid": "4acfddfdd5b25dd89f053ab5f13d68af459ef595",
        "trusted": true
      },
      "cell_type": "code",
      "source": "",
      "execution_count": null,
      "outputs": []
    },
    {
      "metadata": {
        "collapsed": true,
        "_cell_guid": "60b9a441-4623-47a5-b5ba-3b8199ef103a",
        "_uuid": "80e5656d06012b5f9c337d1ce94355b40b237f60",
        "trusted": true
      },
      "cell_type": "code",
      "source": "",
      "execution_count": null,
      "outputs": []
    },
    {
      "metadata": {
        "collapsed": true,
        "_cell_guid": "6de894c3-badc-4f02-970e-00fe7812ecda",
        "_uuid": "6fc7914f860e7c150f6c5765fc303f1856dd5d14"
      },
      "cell_type": "markdown",
      "source": "# Other flags and dummies"
    },
    {
      "metadata": {
        "collapsed": true,
        "_cell_guid": "52b5441f-5ae7-4a48-9e43-88075a4b74e0",
        "_uuid": "c997e8493498befd942bf18b8d3b51ff24279a91",
        "trusted": true
      },
      "cell_type": "code",
      "source": "other_dummies = pd.DataFrame()\nother_dummies['JT_EXECUTIVE_FLAG'] = df5['JT_EXECUTIVE_FLAG']\nother_dummies['SoC_COMPUTER_FLAG'] = df5['SoC_COMPUTER_FLAG']\nother_dummies['SoC_UPPERCASE_FLAG'] = df5['SoC_UPPERCASE_FLAG']\nother_dummies['JT_PROFESSOR_FLAG'] = df5['JT_PROFESSOR_FLAG']\nother_dummies['JT_SENIOR_FLAG'] = df5['JT_SENIOR_FLAG']\nother_dummies['JT_DATASCIENCE_FLAG'] = df5['JT_DATASCIENCE_FLAG']\nother_dummies['Emp_UNIVERSITY_FLAG'] = df5['Emp_UNIVERSITY_FLAG']",
      "execution_count": 65,
      "outputs": []
    },
    {
      "metadata": {
        "_cell_guid": "c7c5bff8-a349-4314-94c5-4d9e7faf43e5",
        "_uuid": "172e901f85e32d0693c76413f190ede7d3c50518",
        "trusted": true,
        "collapsed": true
      },
      "cell_type": "code",
      "source": "df5['City_State'] = df5[['Latitude', 'Longitude']].apply(lambda x: ' : '.join(x), axis=1)\ncity_dummies = pd.get_dummies(df5['City_State'],drop_first=True)\n# city_dummies.head(2)",
      "execution_count": 66,
      "outputs": []
    },
    {
      "metadata": {
        "collapsed": true,
        "_cell_guid": "2db9f3cc-9f27-4e41-903c-eed068e56163",
        "_uuid": "9171a6bc9299bdef2b530d03d09f0d0522a0abc9",
        "trusted": true
      },
      "cell_type": "code",
      "source": "coast_dummies = pd.get_dummies(df5['COAST_FLAG'],drop_first=True)\n#coast_dummies.head(2)",
      "execution_count": 67,
      "outputs": []
    },
    {
      "metadata": {
        "collapsed": true,
        "_cell_guid": "2db9f3cc-9f27-4e41-903c-eed068e56163",
        "_uuid": "9171a6bc9299bdef2b530d03d09f0d0522a0abc9",
        "trusted": true
      },
      "cell_type": "code",
      "source": "year_dummies = pd.get_dummies(df5['Year'],drop_first=True)\n#coast_dummies.head(2)",
      "execution_count": 102,
      "outputs": []
    },
    {
      "metadata": {
        "collapsed": true,
        "_cell_guid": "5afaddfd-996e-4dbd-97e9-90fefbb4eec0",
        "_uuid": "25a322968ada9bb2edc54eafd058a33d4f186405",
        "trusted": true
      },
      "cell_type": "code",
      "source": "state_dummies = pd.get_dummies(df5['Worksite - Split 2'],drop_first=True)\n#state_dummies.head(2)",
      "execution_count": 68,
      "outputs": []
    },
    {
      "metadata": {
        "_cell_guid": "4526a520-97fd-4f7e-a6ee-c50ab79b31ba",
        "_uuid": "40bdfb7114392a7abd98f685af4090869ac273db",
        "trusted": true,
        "collapsed": true
      },
      "cell_type": "code",
      "source": "fullpart_dummies = pd.get_dummies(df5['Full Time Position'],drop_first=True)\n# fullpart_dummies.head(2)",
      "execution_count": 69,
      "outputs": []
    },
    {
      "metadata": {
        "collapsed": true,
        "_cell_guid": "a565da58-1487-4681-916a-6f9c8a0fcfc1",
        "_uuid": "3eaa90818c2671419220e1562bb1cc6b884f746d",
        "trusted": true
      },
      "cell_type": "code",
      "source": "#df5['Prevailing Wage'].max()\ndf5['Wage_buckets'] = pd.cut(df5['Prevailing Wage'],[-1,10000,30000,50000,70000,90000,110000,130000,150000,170000,190000,10000000000000])\n#df5.head()\nwage_dummies = pd.get_dummies(df5['Wage_buckets'],drop_first=True)\n#wage_dummies.head(2)",
      "execution_count": 70,
      "outputs": []
    },
    {
      "metadata": {
        "collapsed": true,
        "_cell_guid": "4526a520-97fd-4f7e-a6ee-c50ab79b31ba",
        "_uuid": "40bdfb7114392a7abd98f685af4090869ac273db",
        "trusted": true
      },
      "cell_type": "code",
      "source": "SOC_nmf_dummies = pd.get_dummies(d_SOC,drop_first=True)\nJT_nmf_dummies = pd.get_dummies(d_JT,drop_first=True)\n# EMP_nmf_dummies = pd.get_dummies(d_EMP,drop_first=True)",
      "execution_count": 71,
      "outputs": []
    },
    {
      "metadata": {
        "_cell_guid": "37084c6b-cfcb-4cbd-8df0-ffdf47cf6a3f",
        "_uuid": "11588db76941724d738f2fbf9e5dde608b39c68e",
        "trusted": true
      },
      "cell_type": "code",
      "source": "other_dummies.shape\nfullpart_dummies.shape\nstate_dummies.shape\nyear_dummies.shape\ncoast_dummies.shape\nwage_dummies.shape\ncity_dummies.shape\nd_SOC.shape\nd_JT.shape\n# d_EMP.shape",
      "execution_count": 103,
      "outputs": [
        {
          "output_type": "execute_result",
          "execution_count": 103,
          "data": {
            "text/plain": "(2251768, 1)"
          },
          "metadata": {}
        }
      ]
    },
    {
      "metadata": {
        "_cell_guid": "6d6f6fb1-1a76-4986-902d-8f4e40fcdc43",
        "_uuid": "815b3a41ff37ceb59d4ad675ddda1a4dd5099f54"
      },
      "cell_type": "markdown",
      "source": "# Model"
    },
    {
      "metadata": {
        "trusted": true,
        "_uuid": "e06025afc4ea917854d58a7152ab82782cc3e84e"
      },
      "cell_type": "code",
      "source": "from scipy.sparse import hstack\nX = hstack((tf_SOC,d_JT.as_matrix(),fullpart_dummies.as_matrix(),year_dummies.as_matrix(),city_dummies.as_matrix(),other_dummies.as_matrix(),state_dummies.as_matrix(),\n            wage_dummies.as_matrix()))\ny = df5['Case Status']",
      "execution_count": 104,
      "outputs": []
    },
    {
      "metadata": {
        "trusted": true,
        "_uuid": "d3ee444a0f05396bbf635400c0df368854ba7f12"
      },
      "cell_type": "code",
      "source": "df6 = pd.concat([df5, city_dummies,other_dummies,state_dummies,fullpart_dummies,wage_dummies,coast_dummies], axis=1)",
      "execution_count": 31,
      "outputs": []
    },
    {
      "metadata": {
        "_cell_guid": "8e48bff1-184e-4ebb-843c-6a3eb2720d3b",
        "_uuid": "e97f2405c3179ea08f95dd5316d0a95d95daf6f1",
        "trusted": true,
        "collapsed": true
      },
      "cell_type": "code",
      "source": "vectorizer1 = CountVectorizer(binary= False, stop_words='english', max_df = 0.5, min_df = 10, max_features = 200)\nanaly1 = vectorizer1.build_analyzer()\nvectorizer2 = CountVectorizer(binary= False, stop_words='english', max_df = 0.5, min_df = 10, max_features = 200)\nanaly2 = vectorizer2.build_analyzer()\n# vectorizer3 = CountVectorizer(binary= False, stop_words='english', max_df = 0.5, min_df = 10, max_features = 200)\n# analy3 = vectorizer3.build_analyzer()",
      "execution_count": 86,
      "outputs": []
    },
    {
      "metadata": {
        "_cell_guid": "b6b3ed54-0135-427a-b8e9-dc3a403cc336",
        "_uuid": "fa2bb4b75880fc66b32fc59a819cb0156c0ba713",
        "trusted": true
      },
      "cell_type": "code",
      "source": "ctr1_SOC = Counter()\nfor name in tqdm(df5[df5['Case Status'] == 'CERTIFIED']['SOC_MOD']):\n    ctr1_SOC.update(analy1(name))\n\nctr2_SOC = Counter()\nfor name in tqdm(df5[df5['Case Status'] == 'CERTIFIED-WITHDRAWN']['SOC_MOD']):\n    ctr2_SOC.update(analy1(name))\n\nctr3_SOC = Counter()\nfor name in tqdm(df5[df5['Case Status'] == 'DENIED']['SOC_MOD']):\n    ctr3_SOC.update(analy1(name))\n\nctr4_SOC = Counter()\nfor name in tqdm(df5[df5['Case Status'] == 'WITHDRAWN']['SOC_MOD']):\n    ctr4_SOC.update(analy1(name))",
      "execution_count": 33,
      "outputs": [
        {
          "output_type": "stream",
          "text": "100%|██████████| 1961936/1961936 [00:11<00:00, 165908.10it/s]\n100%|██████████| 152089/152089 [00:00<00:00, 165589.53it/s]\n100%|██████████| 70554/70554 [00:00<00:00, 162742.76it/s]\n100%|██████████| 67189/67189 [00:00<00:00, 162260.30it/s]\n",
          "name": "stderr"
        }
      ]
    },
    {
      "metadata": {
        "_cell_guid": "dd611bc5-62bc-464c-807a-2f0e66b426f0",
        "_uuid": "343082a819116bb674361e421876896497b4ac09",
        "trusted": true
      },
      "cell_type": "code",
      "source": "ctr1_JT = Counter()\nfor name in tqdm(df5[df5['Case Status'] == 'CERTIFIED']['JT_MOD']):\n    ctr1_JT.update(analy2(name))\n\nctr2_JT = Counter()\nfor name in tqdm(df5[df5['Case Status'] == 'CERTIFIED-WITHDRAWN']['JT_MOD']):\n    ctr2_JT.update(analy2(name))\n\nctr3_JT = Counter()\nfor name in tqdm(df5[df5['Case Status'] == 'DENIED']['JT_MOD']):\n    ctr3_JT.update(analy2(name))\n\nctr4_JT = Counter()\nfor name in tqdm(df5[df5['Case Status'] == 'WITHDRAWN']['JT_MOD']):\n    ctr4_JT.update(analy2(name))",
      "execution_count": 34,
      "outputs": [
        {
          "output_type": "stream",
          "text": "100%|██████████| 1961936/1961936 [00:12<00:00, 160908.98it/s]\n100%|██████████| 152089/152089 [00:00<00:00, 163786.38it/s]\n100%|██████████| 70554/70554 [00:00<00:00, 167032.85it/s]\n100%|██████████| 67189/67189 [00:00<00:00, 151013.32it/s]\n",
          "name": "stderr"
        }
      ]
    },
    {
      "metadata": {
        "_cell_guid": "d7ac27ea-2642-4cef-ac1a-4043aa9b41d7",
        "_uuid": "e3a6da7f4bf48af668f499ee8e05c297f14becc7",
        "trusted": true,
        "collapsed": true
      },
      "cell_type": "code",
      "source": "# ctr1_EMP = Counter()\n# for name in tqdm(df5[df5['Case Status'] == 'CERTIFIED']['EMP_MOD']):\n#     ctr1_EMP.update(analy3(name))\n\n# ctr2_EMP = Counter()\n# for name in tqdm(df5[df5['Case Status'] == 'CERTIFIED-WITHDRAWN']['EMP_MOD']):\n#     ctr2_EMP.update(analy3(name))\n\n# ctr3_EMP = Counter()\n# for name in tqdm(df5[df5['Case Status'] == 'DENIED']['EMP_MOD']):\n#     ctr3_EMP.update(analy3(name))\n\n# ctr4_EMP = Counter()\n# for name in tqdm(df5[df5['Case Status'] == 'WITHDRAWN']['EMP_MOD']):\n#     ctr4_EMP.update(analy3(name))",
      "execution_count": 35,
      "outputs": []
    },
    {
      "metadata": {
        "collapsed": true,
        "_cell_guid": "59721b4c-70c1-4c50-bd2b-f2a46049db19",
        "_uuid": "799f610a4244edf9925707b19f61743145a145f6",
        "trusted": true
      },
      "cell_type": "code",
      "source": "SOC_terms_0 = [term[0] for term in ctr1_SOC.most_common(200)]\nadd_SOC_row0 = ' '.join(SOC_terms_0)\nSOC_terms_1 = [term[0] for term in ctr2_SOC.most_common(10000) if (term[0] not in SOC_terms_0)]\nadd_SOC_row1 = ' '.join(SOC_terms_1)\nSOC_terms_2 = [term[0] for term in ctr3_SOC.most_common(50000) if ((term[0] not in SOC_terms_0) & (term[0] not in SOC_terms_1))]\nadd_SOC_row2 = ' '.join(SOC_terms_2)\nSOC_terms_3 = [term[0] for term in ctr4_SOC.most_common(50000) if ((term[0] not in SOC_terms_0) & (term[0] not in SOC_terms_1) & (term[0] not in SOC_terms_2))]\nadd_SOC_row3 = ' '.join(SOC_terms_3)",
      "execution_count": 36,
      "outputs": []
    },
    {
      "metadata": {
        "collapsed": true,
        "_cell_guid": "ea05dcbe-67e4-4224-8e85-212d7213e26d",
        "_uuid": "65d65f1bdcc2640e0d0c26c615068030980e51d2",
        "trusted": true
      },
      "cell_type": "code",
      "source": "JT_terms_0 = [term[0] for term in ctr1_JT.most_common(200)]\nadd_JT_row0 = ' '.join(JT_terms_0)\nJT_terms_1 = [term[0] for term in ctr2_JT.most_common(10000) if (term[0] not in JT_terms_0)]\nadd_JT_row1 = ' '.join(JT_terms_1)\nJT_terms_2 = [term[0] for term in ctr3_JT.most_common(50000) if ((term[0] not in JT_terms_0) & (term[0] not in JT_terms_1))]\nadd_JT_row2 = ' '.join(JT_terms_2)\nJT_terms_3 = [term[0] for term in ctr4_JT.most_common(50000) if ((term[0] not in JT_terms_0) & (term[0] not in JT_terms_1) & (term[0] not in JT_terms_2))]\nadd_JT_row3 = ' '.join(JT_terms_3)",
      "execution_count": 37,
      "outputs": []
    },
    {
      "metadata": {
        "collapsed": true,
        "_cell_guid": "cc5e2331-2a7f-455c-9559-09028ff21ec7",
        "_uuid": "f55412e43402d0ae7a9e15924ae2b3c63e5f6ed1",
        "trusted": true
      },
      "cell_type": "code",
      "source": "# EMP_terms_0 = [term[0] for term in ctr1_EMP.most_common(200)]\n# add_EMP_row0 = ' '.join(EMP_terms_0)\n# EMP_terms_1 = [term[0] for term in ctr2_EMP.most_common(10000) if (term[0] not in EMP_terms_0)]\n# add_EMP_row1 = ' '.join(EMP_terms_1)\n# EMP_terms_2 = [term[0] for term in ctr3_EMP.most_common(50000) if ((term[0] not in EMP_terms_0) & (term[0] not in EMP_terms_1))]\n# add_EMP_row2 = ' '.join(EMP_terms_2)\n# EMP_terms_3 = [term[0] for term in ctr4_EMP.most_common(50000) if ((term[0] not in EMP_terms_0) & (term[0] not in EMP_terms_1) & (term[0] not in EMP_terms_2))]\n# add_EMP_row3 = ' '.join(EMP_terms_3)",
      "execution_count": 38,
      "outputs": []
    },
    {
      "metadata": {
        "collapsed": true,
        "_cell_guid": "0121eadd-55a3-4a8f-a3bf-c723f96c35de",
        "_uuid": "1f3efe3fd41aea27d67042fba992bb3870d10a9f",
        "trusted": true
      },
      "cell_type": "code",
      "source": "df6_CW = df6[df6['Case Status'] == 'CERTIFIED-WITHDRAWN']\ndf6_D = df6[df6['Case Status'] == 'DENIED']\ndf6_W = df6[df6['Case Status'] == 'WITHDRAWN']",
      "execution_count": 39,
      "outputs": []
    },
    {
      "metadata": {
        "_cell_guid": "632d62ba-40a3-40ad-bb8d-6955afbd1caf",
        "_uuid": "b9a1140924a1fcf430c1dd998647670baa428cb6",
        "trusted": true
      },
      "cell_type": "code",
      "source": "df6_CW['SOC_MOD'] = add_SOC_row1\ndf6_D['SOC_MOD'] = add_SOC_row2\ndf6_W['SOC_MOD'] = add_SOC_row3\n\ndf6_CW['JT_MOD'] = add_JT_row1\ndf6_D['JT_MOD'] = add_JT_row2\ndf6_W['JT_MOD'] = add_JT_row3\n\n# df6_CW['EMP_MOD'] = add_EMP_row1\n# df6_D['EMP_MOD'] = add_EMP_row2\n# df6_W['EMP_MOD'] = add_EMP_row3",
      "execution_count": null,
      "outputs": [
        {
          "output_type": "stream",
          "text": "/opt/conda/lib/python3.6/site-packages/ipykernel_launcher.py:1: SettingWithCopyWarning: \nA value is trying to be set on a copy of a slice from a DataFrame.\nTry using .loc[row_indexer,col_indexer] = value instead\n\nSee the caveats in the documentation: http://pandas.pydata.org/pandas-docs/stable/indexing.html#indexing-view-versus-copy\n  \"\"\"Entry point for launching an IPython kernel.\n",
          "name": "stderr"
        }
      ]
    },
    {
      "metadata": {
        "collapsed": true,
        "_cell_guid": "f5227fc3-f51a-4b67-a187-8d121e525c0b",
        "_uuid": "2f77bc8313dd55a5b3e2f380a2f18b717dd5c5e9",
        "trusted": true
      },
      "cell_type": "code",
      "source": "df7 = df6.append([df6_CW]*0,ignore_index=True)\ndf8 = df7.append([df6_D]*1,ignore_index=True)\ndf9 = df8.append([df6_W]*1,ignore_index=True)",
      "execution_count": null,
      "outputs": []
    },
    {
      "metadata": {
        "trusted": true,
        "_uuid": "144f37abacea7c5d58e458732e58708687c198cf"
      },
      "cell_type": "code",
      "source": "print (df9.shape)\ndf10 = df9[~pd.isnull(df9.SOC_MOD)]\ndf10.shape",
      "execution_count": 166,
      "outputs": [
        {
          "output_type": "stream",
          "text": "(160999, 515)\n",
          "name": "stdout"
        },
        {
          "output_type": "execute_result",
          "execution_count": 166,
          "data": {
            "text/plain": "(160996, 515)"
          },
          "metadata": {}
        }
      ]
    },
    {
      "metadata": {
        "trusted": true,
        "_uuid": "95c7120075d05a8df5785c3ede7d50f836cfe1c4"
      },
      "cell_type": "code",
      "source": "# pickle.dump(df10, open('df10.pkl', 'wb'))\n\n# df10 = pickle.load(open('df10.pkl', 'rb'))",
      "execution_count": 167,
      "outputs": [
        {
          "output_type": "error",
          "ename": "OSError",
          "evalue": "[Errno 28] No space left on device",
          "traceback": [
            "\u001b[0;31m---------------------------------------------------------------------------\u001b[0m",
            "\u001b[0;31mOSError\u001b[0m                                   Traceback (most recent call last)",
            "\u001b[0;32m<ipython-input-167-e33dcbcdcba7>\u001b[0m in \u001b[0;36m<module>\u001b[0;34m()\u001b[0m\n\u001b[0;32m----> 1\u001b[0;31m \u001b[0mpickle\u001b[0m\u001b[0;34m.\u001b[0m\u001b[0mdump\u001b[0m\u001b[0;34m(\u001b[0m\u001b[0mdf10\u001b[0m\u001b[0;34m,\u001b[0m \u001b[0mopen\u001b[0m\u001b[0;34m(\u001b[0m\u001b[0;34m'df10.pkl'\u001b[0m\u001b[0;34m,\u001b[0m \u001b[0;34m'wb'\u001b[0m\u001b[0;34m)\u001b[0m\u001b[0;34m)\u001b[0m\u001b[0;34m\u001b[0m\u001b[0m\n\u001b[0m",
            "\u001b[0;31mOSError\u001b[0m: [Errno 28] No space left on device"
          ]
        }
      ]
    },
    {
      "metadata": {
        "trusted": true,
        "_uuid": "91d68a5a8a80aa575e7c63448e3d0b85066b03e0"
      },
      "cell_type": "code",
      "source": "t0 = time()\ntf_SOC = vectorizer1.fit_transform(df5['SOC_MOD'])\nt1 = time()\nprint (\"elapsed time is {} seconds for vectorization\".format(int(t1-t0)))\ntf_feature_names1 = vectorizer1.get_feature_names()\nprint (tf_feature_names1[0:2])\nprint (\"NUMBER OF FEATURES\",len(tf_feature_names1))",
      "execution_count": 87,
      "outputs": [
        {
          "output_type": "stream",
          "text": "elapsed time is 10 seconds for vectorization\n['account', 'actuari']\nNUMBER OF FEATURES 200\n",
          "name": "stdout"
        }
      ]
    },
    {
      "metadata": {
        "trusted": true,
        "_uuid": "78fcbc993399a57fa744e834bc7cf31a406bc576"
      },
      "cell_type": "code",
      "source": "t0 = time()\ntf_JT = vectorizer2.fit_transform(df5['JT_MOD'])\nt1 = time()\nprint (\"elapsed time is {} seconds for vectorization\".format(int(t1-t0)))\ntf_feature_names2 = vectorizer2.get_feature_names()\nprint (tf_feature_names2[0:2])\nprint (\"NUMBER OF FEATURES\",len(tf_feature_names2))",
      "execution_count": 88,
      "outputs": [
        {
          "output_type": "stream",
          "text": "elapsed time is 10 seconds for vectorization\n['account', 'actuari']\nNUMBER OF FEATURES 200\n",
          "name": "stdout"
        }
      ]
    },
    {
      "metadata": {
        "trusted": true,
        "_uuid": "8037a75f5f02bdbd6ab2579c89d92e4d5411a51f"
      },
      "cell_type": "code",
      "source": "# t0 = time()\n# tf_EMP = vectorizer3.fit_transform(df10['EMP_MOD'])\n# t1 = time()\n# print (\"elapsed time is {} seconds for vectorization\".format(int(t1-t0)))\n# tf_feature_names3 = vectorizer3.get_feature_names()\n# print (tf_feature_names3[0:2])\n# print (\"NUMBER OF FEATURES\",len(tf_feature_names3))",
      "execution_count": null,
      "outputs": []
    },
    {
      "metadata": {
        "collapsed": true,
        "_cell_guid": "62059ad7-0a73-469a-bf59-8111f7345500",
        "_uuid": "21adfcca243fd3dbf98664450e4726dd9419cccd",
        "trusted": true
      },
      "cell_type": "code",
      "source": "X = df10.iloc[:,27:]\ny = df10['Case Status']",
      "execution_count": 170,
      "outputs": []
    },
    {
      "metadata": {
        "trusted": true,
        "_uuid": "0fea93f2b54a9722de8590c6c96f167dd7a0af76"
      },
      "cell_type": "code",
      "source": "rest_all.head()",
      "execution_count": 171,
      "outputs": [
        {
          "output_type": "execute_result",
          "execution_count": 171,
          "data": {
            "text/plain": "   13 : -144  15 : -145  17 : 64  18 : 66  18 : 67  19 : 155  21 : 157  \\\n0        0.0        0.0      0.0      0.0      0.0       0.0       0.0   \n1        0.0        0.0      0.0      0.0      0.0       0.0       0.0   \n2        0.0        0.0      0.0      0.0      0.0       0.0       0.0   \n3        0.0        0.0      0.0      0.0      0.0       0.0       0.0   \n4        0.0        0.0      0.0      0.0      0.0       0.0       0.0   \n\n   25 : 80  25 : 97  26 : 80  ...    (30000, 50000]  (50000, 70000]  \\\n0      0.0      0.0      0.0  ...               0.0             1.0   \n1      0.0      0.0      0.0  ...               1.0             0.0   \n2      0.0      0.0      0.0  ...               1.0             0.0   \n3      0.0      0.0      0.0  ...               1.0             0.0   \n4      0.0      0.0      0.0  ...               1.0             0.0   \n\n   (70000, 90000]  (90000, 110000]  (110000, 130000]  (130000, 150000]  \\\n0             0.0              0.0               0.0               0.0   \n1             0.0              0.0               0.0               0.0   \n2             0.0              0.0               0.0               0.0   \n3             0.0              0.0               0.0               0.0   \n4             0.0              0.0               0.0               0.0   \n\n   (150000, 170000]  (170000, 190000]  (190000, 10000000000000]  Other  \n0               0.0               0.0                       0.0    0.0  \n1               0.0               0.0                       0.0    1.0  \n2               0.0               0.0                       0.0    1.0  \n3               0.0               0.0                       0.0    0.0  \n4               0.0               0.0                       0.0    0.0  \n\n[5 rows x 436 columns]",
            "text/html": "<div>\n<style>\n    .dataframe thead tr:only-child th {\n        text-align: right;\n    }\n\n    .dataframe thead th {\n        text-align: left;\n    }\n\n    .dataframe tbody tr th {\n        vertical-align: top;\n    }\n</style>\n<table border=\"1\" class=\"dataframe\">\n  <thead>\n    <tr style=\"text-align: right;\">\n      <th></th>\n      <th>13 : -144</th>\n      <th>15 : -145</th>\n      <th>17 : 64</th>\n      <th>18 : 66</th>\n      <th>18 : 67</th>\n      <th>19 : 155</th>\n      <th>21 : 157</th>\n      <th>25 : 80</th>\n      <th>25 : 97</th>\n      <th>26 : 80</th>\n      <th>...</th>\n      <th>(30000, 50000]</th>\n      <th>(50000, 70000]</th>\n      <th>(70000, 90000]</th>\n      <th>(90000, 110000]</th>\n      <th>(110000, 130000]</th>\n      <th>(130000, 150000]</th>\n      <th>(150000, 170000]</th>\n      <th>(170000, 190000]</th>\n      <th>(190000, 10000000000000]</th>\n      <th>Other</th>\n    </tr>\n  </thead>\n  <tbody>\n    <tr>\n      <th>0</th>\n      <td>0.0</td>\n      <td>0.0</td>\n      <td>0.0</td>\n      <td>0.0</td>\n      <td>0.0</td>\n      <td>0.0</td>\n      <td>0.0</td>\n      <td>0.0</td>\n      <td>0.0</td>\n      <td>0.0</td>\n      <td>...</td>\n      <td>0.0</td>\n      <td>1.0</td>\n      <td>0.0</td>\n      <td>0.0</td>\n      <td>0.0</td>\n      <td>0.0</td>\n      <td>0.0</td>\n      <td>0.0</td>\n      <td>0.0</td>\n      <td>0.0</td>\n    </tr>\n    <tr>\n      <th>1</th>\n      <td>0.0</td>\n      <td>0.0</td>\n      <td>0.0</td>\n      <td>0.0</td>\n      <td>0.0</td>\n      <td>0.0</td>\n      <td>0.0</td>\n      <td>0.0</td>\n      <td>0.0</td>\n      <td>0.0</td>\n      <td>...</td>\n      <td>1.0</td>\n      <td>0.0</td>\n      <td>0.0</td>\n      <td>0.0</td>\n      <td>0.0</td>\n      <td>0.0</td>\n      <td>0.0</td>\n      <td>0.0</td>\n      <td>0.0</td>\n      <td>1.0</td>\n    </tr>\n    <tr>\n      <th>2</th>\n      <td>0.0</td>\n      <td>0.0</td>\n      <td>0.0</td>\n      <td>0.0</td>\n      <td>0.0</td>\n      <td>0.0</td>\n      <td>0.0</td>\n      <td>0.0</td>\n      <td>0.0</td>\n      <td>0.0</td>\n      <td>...</td>\n      <td>1.0</td>\n      <td>0.0</td>\n      <td>0.0</td>\n      <td>0.0</td>\n      <td>0.0</td>\n      <td>0.0</td>\n      <td>0.0</td>\n      <td>0.0</td>\n      <td>0.0</td>\n      <td>1.0</td>\n    </tr>\n    <tr>\n      <th>3</th>\n      <td>0.0</td>\n      <td>0.0</td>\n      <td>0.0</td>\n      <td>0.0</td>\n      <td>0.0</td>\n      <td>0.0</td>\n      <td>0.0</td>\n      <td>0.0</td>\n      <td>0.0</td>\n      <td>0.0</td>\n      <td>...</td>\n      <td>1.0</td>\n      <td>0.0</td>\n      <td>0.0</td>\n      <td>0.0</td>\n      <td>0.0</td>\n      <td>0.0</td>\n      <td>0.0</td>\n      <td>0.0</td>\n      <td>0.0</td>\n      <td>0.0</td>\n    </tr>\n    <tr>\n      <th>4</th>\n      <td>0.0</td>\n      <td>0.0</td>\n      <td>0.0</td>\n      <td>0.0</td>\n      <td>0.0</td>\n      <td>0.0</td>\n      <td>0.0</td>\n      <td>0.0</td>\n      <td>0.0</td>\n      <td>0.0</td>\n      <td>...</td>\n      <td>1.0</td>\n      <td>0.0</td>\n      <td>0.0</td>\n      <td>0.0</td>\n      <td>0.0</td>\n      <td>0.0</td>\n      <td>0.0</td>\n      <td>0.0</td>\n      <td>0.0</td>\n      <td>0.0</td>\n    </tr>\n  </tbody>\n</table>\n<p>5 rows × 436 columns</p>\n</div>"
          },
          "metadata": {}
        }
      ]
    },
    {
      "metadata": {
        "_cell_guid": "df87c364-da4f-437d-b8dc-7366d61d254f",
        "_uuid": "b06ca5cb768f46654e6009e519d90aa6aacf161a",
        "trusted": true
      },
      "cell_type": "code",
      "source": "# from scipy.sparse import hstack\n# X = hstack(tf_SOC,tf_JT,rest_all.as_matrix())\n# y = df5['Case Status']",
      "execution_count": 172,
      "outputs": []
    },
    {
      "metadata": {
        "_cell_guid": "42120749-fce7-4720-8dea-7f7052249ce3",
        "_uuid": "8087f0a977bbceaf35573f7aace4ac3dc8702e61",
        "trusted": true
      },
      "cell_type": "code",
      "source": "y.shape",
      "execution_count": 173,
      "outputs": [
        {
          "output_type": "execute_result",
          "execution_count": 173,
          "data": {
            "text/plain": "(160996,)"
          },
          "metadata": {}
        }
      ]
    },
    {
      "metadata": {
        "_cell_guid": "6431f111-0edb-4a2c-8f6e-48f08a416863",
        "_uuid": "df91aab33440c188875a24f750a4b348799af6a9",
        "trusted": true
      },
      "cell_type": "code",
      "source": "X_train,X_test,y_train, y_test = train_test_split(X,y,test_size = 0.3,random_state = 100)\n\nprint (X_train.shape, X_test.shape, y_train.shape, y_test.shape)\n\nlabels = y_train.value_counts().reset_index()\nlabels[labels['index'] == 'CERTIFIED']['Case Status'].values[0]\nprint (labels)",
      "execution_count": 105,
      "outputs": [
        {
          "output_type": "stream",
          "text": "(1576237, 721) (675531, 721) (1576237,) (675531,)\n                 index  Case Status\n0            CERTIFIED      1373218\n1  CERTIFIED-WITHDRAWN       106531\n2               DENIED        49493\n3            WITHDRAWN        46995\n",
          "name": "stdout"
        }
      ]
    },
    {
      "metadata": {
        "collapsed": true,
        "_cell_guid": "b807fa4d-44f3-4ebe-934a-4b8e5bce875c",
        "_uuid": "638651d28c8aacf2f36fc7b88032a573906717eb",
        "trusted": true
      },
      "cell_type": "code",
      "source": "#print (y_train[0:10])\n# weight_list[0:10]",
      "execution_count": 175,
      "outputs": []
    },
    {
      "metadata": {
        "collapsed": true,
        "_cell_guid": "c57f20c3-f5d4-4aa9-adf5-637ad66c2e93",
        "_uuid": "25d03cddfa1dba9467cf616cb2b9bbf0db5bfe07",
        "trusted": true
      },
      "cell_type": "code",
      "source": "clf = MultinomialNB(alpha=0.05)\n\n#     LogisticRegressionCV() - 91\n#     MultinomialNB(alpha=1.0) - 65\n#     PassiveAggressiveClassifier() - 89\n#     KNeighborsClassifier(3) - Fail\n#     SVC(kernel=\"linear\", C=0.025) - Fail\n#     SVC(gamma=2, C=1) - Fail\n#     GaussianProcessClassifier(1.0 * RBF(1.0)) - Sparse/dense error\n#     DecisionTreeClassifier(max_depth=5) - 89\n#     RandomForestClassifier(max_depth=5, n_estimators=10, max_features=1) - 74\n#     MLPClassifier(alpha=1) - 91\n#     AdaBoostClassifier() - 75\n#     GaussianNB() - Sparse/dense error\n#     QuadraticDiscriminantAnalysis() - Sparse/dense error\n",
      "execution_count": 114,
      "outputs": []
    },
    {
      "metadata": {
        "_cell_guid": "93d692d8-72ef-407c-b9fc-ff1bf449b880",
        "_uuid": "4e84005f0254f93231d2d5308f5ec5bf1de0d35d",
        "trusted": true
      },
      "cell_type": "code",
      "source": "t0 = time()\nclf.fit(X_train, y_train.tolist())#, sample_weight=weight_list)\nt1 = time()\nprint (\"elapsed time is {} seconds for vectorization\".format(int(t1-t0)))\n# clf = trainNB(X_train=X_train, y_train=y_train)\nprint (clf)",
      "execution_count": 115,
      "outputs": [
        {
          "output_type": "stream",
          "text": "elapsed time is 3 seconds for vectorization\nMultinomialNB(alpha=0.05, class_prior=None, fit_prior=True)\n",
          "name": "stdout"
        }
      ]
    },
    {
      "metadata": {
        "_cell_guid": "ea7189e7-503b-44fc-bf6c-75957c0ed7ad",
        "_uuid": "fd712c52f6815d6f0e3ae8f934e12ccdee1009bc",
        "trusted": true
      },
      "cell_type": "code",
      "source": "#dtm_test=vectorizer1.transform(X_test)\npred_test = clf.predict(X_test)\ncompare_df = pd.DataFrame({'true': y_test, 'pred': pred_test})\npd.crosstab(compare_df.true, compare_df.pred)",
      "execution_count": 116,
      "outputs": [
        {
          "output_type": "execute_result",
          "execution_count": 116,
          "data": {
            "text/plain": "pred                 CERTIFIED  CERTIFIED-WITHDRAWN  DENIED\ntrue                                                       \nCERTIFIED               534325                20553   33840\nCERTIFIED-WITHDRAWN      38788                 4763    2007\nDENIED                   15649                  611    4801\nWITHDRAWN                17933                  808    1453",
            "text/html": "<div>\n<style>\n    .dataframe thead tr:only-child th {\n        text-align: right;\n    }\n\n    .dataframe thead th {\n        text-align: left;\n    }\n\n    .dataframe tbody tr th {\n        vertical-align: top;\n    }\n</style>\n<table border=\"1\" class=\"dataframe\">\n  <thead>\n    <tr style=\"text-align: right;\">\n      <th>pred</th>\n      <th>CERTIFIED</th>\n      <th>CERTIFIED-WITHDRAWN</th>\n      <th>DENIED</th>\n    </tr>\n    <tr>\n      <th>true</th>\n      <th></th>\n      <th></th>\n      <th></th>\n    </tr>\n  </thead>\n  <tbody>\n    <tr>\n      <th>CERTIFIED</th>\n      <td>534325</td>\n      <td>20553</td>\n      <td>33840</td>\n    </tr>\n    <tr>\n      <th>CERTIFIED-WITHDRAWN</th>\n      <td>38788</td>\n      <td>4763</td>\n      <td>2007</td>\n    </tr>\n    <tr>\n      <th>DENIED</th>\n      <td>15649</td>\n      <td>611</td>\n      <td>4801</td>\n    </tr>\n    <tr>\n      <th>WITHDRAWN</th>\n      <td>17933</td>\n      <td>808</td>\n      <td>1453</td>\n    </tr>\n  </tbody>\n</table>\n</div>"
          },
          "metadata": {}
        }
      ]
    },
    {
      "metadata": {
        "_cell_guid": "87bcaf76-2f50-4db4-adeb-5d9c3b62d8e2",
        "_uuid": "684ac18f09eee7e5f13da0ec04acec1ef6d83b90",
        "trusted": true
      },
      "cell_type": "code",
      "source": "from sklearn.metrics import accuracy_score\nacc_test = accuracy_score(y_test.tolist(), pred_test)\nacc_train = accuracy_score(y_train.tolist(), clf.predict(X_train))\nprint ('train accuracy', acc_train)\nprint ('test accruacy', acc_test)",
      "execution_count": 117,
      "outputs": [
        {
          "output_type": "stream",
          "text": "train accuracy 0.804606160114\ntest accruacy 0.805128114032\n",
          "name": "stdout"
        }
      ]
    },
    {
      "metadata": {
        "collapsed": true,
        "_cell_guid": "bb80342a-959a-4c28-98c3-f156107e41a0",
        "_uuid": "178e8d715ec3530ef78f61da839a5455419e05ec",
        "trusted": true
      },
      "cell_type": "code",
      "source": "",
      "execution_count": null,
      "outputs": []
    },
    {
      "metadata": {
        "collapsed": true,
        "_cell_guid": "f1ea39ac-8f17-4a67-b5ef-61317f2c8051",
        "_uuid": "72dc85f2940f2162a313dcff575152af52b986ab",
        "trusted": true
      },
      "cell_type": "code",
      "source": "",
      "execution_count": null,
      "outputs": []
    },
    {
      "metadata": {
        "collapsed": true,
        "_cell_guid": "877bfa65-d4ef-4906-9cb5-0b1cda3a48e1",
        "_uuid": "1208de0c009d54303e22398a44f1e025faac6af8",
        "trusted": true
      },
      "cell_type": "code",
      "source": "",
      "execution_count": null,
      "outputs": []
    },
    {
      "metadata": {
        "collapsed": true,
        "_cell_guid": "712075d8-dd4d-4a1f-b567-0572192750ca",
        "_uuid": "30e4c0ea298a5feeedfe10f674a273d538b6e144",
        "trusted": true
      },
      "cell_type": "code",
      "source": "",
      "execution_count": null,
      "outputs": []
    },
    {
      "metadata": {
        "collapsed": true,
        "_cell_guid": "4186815e-38dd-4513-8c7f-027ede9d67e9",
        "_uuid": "3cd1c24282ad497b57c79c70e4eea8b134c81533",
        "trusted": true
      },
      "cell_type": "code",
      "source": "",
      "execution_count": null,
      "outputs": []
    }
  ],
  "metadata": {
    "kernelspec": {
      "display_name": "Python 3",
      "language": "python",
      "name": "python3"
    },
    "language_info": {
      "name": "python",
      "version": "3.6.4",
      "mimetype": "text/x-python",
      "codemirror_mode": {
        "name": "ipython",
        "version": 3
      },
      "pygments_lexer": "ipython3",
      "nbconvert_exporter": "python",
      "file_extension": ".py"
    }
  },
  "nbformat": 4,
  "nbformat_minor": 1
}